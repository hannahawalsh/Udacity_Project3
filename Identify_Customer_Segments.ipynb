{
 "cells": [
  {
   "cell_type": "markdown",
   "metadata": {},
   "source": [
    "# Project: Identify Customer Segments\n",
    "\n",
    "In this project, you will apply unsupervised learning techniques to identify segments of the population that form the core customer base for a mail-order sales company in Germany. These segments can then be used to direct marketing campaigns towards audiences that will have the highest expected rate of returns. The data that you will use has been provided by our partners at Bertelsmann Arvato Analytics, and represents a real-life data science task.\n",
    "\n",
    "This notebook will help you complete this task by providing a framework within which you will perform your analysis steps. In each step of the project, you will see some text describing the subtask that you will perform, followed by one or more code cells for you to complete your work. **Feel free to add additional code and markdown cells as you go along so that you can explore everything in precise chunks.** The code cells provided in the base template will outline only the major tasks, and will usually not be enough to cover all of the minor tasks that comprise it.\n",
    "\n",
    "It should be noted that while there will be precise guidelines on how you should handle certain tasks in the project, there will also be places where an exact specification is not provided. **There will be times in the project where you will need to make and justify your own decisions on how to treat the data.** These are places where there may not be only one way to handle the data. In real-life tasks, there may be many valid ways to approach an analysis task. One of the most important things you can do is clearly document your approach so that other scientists can understand the decisions you've made.\n",
    "\n",
    "At the end of most sections, there will be a Markdown cell labeled **Discussion**. In these cells, you will report your findings for the completed section, as well as document the decisions that you made in your approach to each subtask. **Your project will be evaluated not just on the code used to complete the tasks outlined, but also your communication about your observations and conclusions at each stage.**"
   ]
  },
  {
   "cell_type": "code",
   "execution_count": 2,
   "metadata": {},
   "outputs": [],
   "source": [
    "# import libraries here; add more as necessary\n",
    "import numpy as np\n",
    "import pandas as pd\n",
    "import matplotlib.pyplot as plt\n",
    "import seaborn as sns\n",
    "\n",
    "from sklearn.preprocessing import StandardScaler\n",
    "from sklearn.decomposition import PCA\n",
    "from sklearn.cluster import KMeans\n",
    "from collections import Counter\n",
    "from workspaceutils import keep_awake\n",
    "\n",
    "# magic word for producing visualizations in notebook\n",
    "%matplotlib inline"
   ]
  },
  {
   "cell_type": "markdown",
   "metadata": {},
   "source": [
    "### Step 0: Load the Data\n",
    "\n",
    "There are four files associated with this project (not including this one):\n",
    "\n",
    "- `Udacity_AZDIAS_Subset.csv`: Demographics data for the general population of Germany; 891211 persons (rows) x 85 features (columns).\n",
    "- `Udacity_CUSTOMERS_Subset.csv`: Demographics data for customers of a mail-order company; 191652 persons (rows) x 85 features (columns).\n",
    "- `Data_Dictionary.md`: Detailed information file about the features in the provided datasets.\n",
    "- `AZDIAS_Feature_Summary.csv`: Summary of feature attributes for demographics data; 85 features (rows) x 4 columns\n",
    "\n",
    "Each row of the demographics files represents a single person, but also includes information outside of individuals, including information about their household, building, and neighborhood. You will use this information to cluster the general population into groups with similar demographic properties. Then, you will see how the people in the customers dataset fit into those created clusters. The hope here is that certain clusters are over-represented in the customers data, as compared to the general population; those over-represented clusters will be assumed to be part of the core userbase. This information can then be used for further applications, such as targeting for a marketing campaign.\n",
    "\n",
    "To start off with, load in the demographics data for the general population into a pandas DataFrame, and do the same for the feature attributes summary. Note for all of the `.csv` data files in this project: they're semicolon (`;`) delimited, so you'll need an additional argument in your [`read_csv()`](https://pandas.pydata.org/pandas-docs/stable/generated/pandas.read_csv.html) call to read in the data properly. Also, considering the size of the main dataset, it may take some time for it to load completely.\n",
    "\n",
    "Once the dataset is loaded, it's recommended that you take a little bit of time just browsing the general structure of the dataset and feature summary file. You'll be getting deep into the innards of the cleaning in the first major step of the project, so gaining some general familiarity can help you get your bearings."
   ]
  },
  {
   "cell_type": "code",
   "execution_count": 3,
   "metadata": {},
   "outputs": [],
   "source": [
    "# Load in the general demographics data.\n",
    "azdias = pd.read_csv(\"Udacity_AZDIAS_Subset.csv\", sep=\";\")\n",
    "\n",
    "# Load in the feature summary file.\n",
    "feat_info = pd.read_csv(\"AZDIAS_Feature_Summary.csv\", sep=\";\")"
   ]
  },
  {
   "cell_type": "code",
   "execution_count": 4,
   "metadata": {},
   "outputs": [
    {
     "name": "stdout",
     "output_type": "stream",
     "text": [
      "(891221, 85)\n",
      "(85, 4)\n"
     ]
    }
   ],
   "source": [
    "# Check the structure of the data after it's loaded (e.g. print the number of\n",
    "# rows and columns, print the first few rows).\n",
    "print(azdias.shape)\n",
    "print(feat_info.shape)\n"
   ]
  },
  {
   "cell_type": "code",
   "execution_count": 5,
   "metadata": {},
   "outputs": [
    {
     "data": {
      "text/html": [
       "<div>\n",
       "<style scoped>\n",
       "    .dataframe tbody tr th:only-of-type {\n",
       "        vertical-align: middle;\n",
       "    }\n",
       "\n",
       "    .dataframe tbody tr th {\n",
       "        vertical-align: top;\n",
       "    }\n",
       "\n",
       "    .dataframe thead th {\n",
       "        text-align: right;\n",
       "    }\n",
       "</style>\n",
       "<table border=\"1\" class=\"dataframe\">\n",
       "  <thead>\n",
       "    <tr style=\"text-align: right;\">\n",
       "      <th></th>\n",
       "      <th>AGER_TYP</th>\n",
       "      <th>ALTERSKATEGORIE_GROB</th>\n",
       "      <th>ANREDE_KZ</th>\n",
       "      <th>CJT_GESAMTTYP</th>\n",
       "      <th>FINANZ_MINIMALIST</th>\n",
       "      <th>FINANZ_SPARER</th>\n",
       "      <th>FINANZ_VORSORGER</th>\n",
       "      <th>FINANZ_ANLEGER</th>\n",
       "      <th>FINANZ_UNAUFFAELLIGER</th>\n",
       "      <th>FINANZ_HAUSBAUER</th>\n",
       "      <th>...</th>\n",
       "      <th>PLZ8_ANTG1</th>\n",
       "      <th>PLZ8_ANTG2</th>\n",
       "      <th>PLZ8_ANTG3</th>\n",
       "      <th>PLZ8_ANTG4</th>\n",
       "      <th>PLZ8_BAUMAX</th>\n",
       "      <th>PLZ8_HHZ</th>\n",
       "      <th>PLZ8_GBZ</th>\n",
       "      <th>ARBEIT</th>\n",
       "      <th>ORTSGR_KLS9</th>\n",
       "      <th>RELAT_AB</th>\n",
       "    </tr>\n",
       "  </thead>\n",
       "  <tbody>\n",
       "    <tr>\n",
       "      <th>0</th>\n",
       "      <td>-1</td>\n",
       "      <td>2</td>\n",
       "      <td>1</td>\n",
       "      <td>2.0</td>\n",
       "      <td>3</td>\n",
       "      <td>4</td>\n",
       "      <td>3</td>\n",
       "      <td>5</td>\n",
       "      <td>5</td>\n",
       "      <td>3</td>\n",
       "      <td>...</td>\n",
       "      <td>NaN</td>\n",
       "      <td>NaN</td>\n",
       "      <td>NaN</td>\n",
       "      <td>NaN</td>\n",
       "      <td>NaN</td>\n",
       "      <td>NaN</td>\n",
       "      <td>NaN</td>\n",
       "      <td>NaN</td>\n",
       "      <td>NaN</td>\n",
       "      <td>NaN</td>\n",
       "    </tr>\n",
       "    <tr>\n",
       "      <th>1</th>\n",
       "      <td>-1</td>\n",
       "      <td>1</td>\n",
       "      <td>2</td>\n",
       "      <td>5.0</td>\n",
       "      <td>1</td>\n",
       "      <td>5</td>\n",
       "      <td>2</td>\n",
       "      <td>5</td>\n",
       "      <td>4</td>\n",
       "      <td>5</td>\n",
       "      <td>...</td>\n",
       "      <td>2.0</td>\n",
       "      <td>3.0</td>\n",
       "      <td>2.0</td>\n",
       "      <td>1.0</td>\n",
       "      <td>1.0</td>\n",
       "      <td>5.0</td>\n",
       "      <td>4.0</td>\n",
       "      <td>3.0</td>\n",
       "      <td>5.0</td>\n",
       "      <td>4.0</td>\n",
       "    </tr>\n",
       "    <tr>\n",
       "      <th>2</th>\n",
       "      <td>-1</td>\n",
       "      <td>3</td>\n",
       "      <td>2</td>\n",
       "      <td>3.0</td>\n",
       "      <td>1</td>\n",
       "      <td>4</td>\n",
       "      <td>1</td>\n",
       "      <td>2</td>\n",
       "      <td>3</td>\n",
       "      <td>5</td>\n",
       "      <td>...</td>\n",
       "      <td>3.0</td>\n",
       "      <td>3.0</td>\n",
       "      <td>1.0</td>\n",
       "      <td>0.0</td>\n",
       "      <td>1.0</td>\n",
       "      <td>4.0</td>\n",
       "      <td>4.0</td>\n",
       "      <td>3.0</td>\n",
       "      <td>5.0</td>\n",
       "      <td>2.0</td>\n",
       "    </tr>\n",
       "  </tbody>\n",
       "</table>\n",
       "<p>3 rows × 85 columns</p>\n",
       "</div>"
      ],
      "text/plain": [
       "   AGER_TYP  ALTERSKATEGORIE_GROB  ANREDE_KZ  CJT_GESAMTTYP  \\\n",
       "0        -1                     2          1            2.0   \n",
       "1        -1                     1          2            5.0   \n",
       "2        -1                     3          2            3.0   \n",
       "\n",
       "   FINANZ_MINIMALIST  FINANZ_SPARER  FINANZ_VORSORGER  FINANZ_ANLEGER  \\\n",
       "0                  3              4                 3               5   \n",
       "1                  1              5                 2               5   \n",
       "2                  1              4                 1               2   \n",
       "\n",
       "   FINANZ_UNAUFFAELLIGER  FINANZ_HAUSBAUER    ...     PLZ8_ANTG1  PLZ8_ANTG2  \\\n",
       "0                      5                 3    ...            NaN         NaN   \n",
       "1                      4                 5    ...            2.0         3.0   \n",
       "2                      3                 5    ...            3.0         3.0   \n",
       "\n",
       "   PLZ8_ANTG3  PLZ8_ANTG4  PLZ8_BAUMAX  PLZ8_HHZ  PLZ8_GBZ  ARBEIT  \\\n",
       "0         NaN         NaN          NaN       NaN       NaN     NaN   \n",
       "1         2.0         1.0          1.0       5.0       4.0     3.0   \n",
       "2         1.0         0.0          1.0       4.0       4.0     3.0   \n",
       "\n",
       "   ORTSGR_KLS9  RELAT_AB  \n",
       "0          NaN       NaN  \n",
       "1          5.0       4.0  \n",
       "2          5.0       2.0  \n",
       "\n",
       "[3 rows x 85 columns]"
      ]
     },
     "execution_count": 5,
     "metadata": {},
     "output_type": "execute_result"
    }
   ],
   "source": [
    "# Look at the data a bit\n",
    "azdias.head(3)"
   ]
  },
  {
   "cell_type": "code",
   "execution_count": 6,
   "metadata": {},
   "outputs": [
    {
     "data": {
      "text/html": [
       "<div>\n",
       "<style scoped>\n",
       "    .dataframe tbody tr th:only-of-type {\n",
       "        vertical-align: middle;\n",
       "    }\n",
       "\n",
       "    .dataframe tbody tr th {\n",
       "        vertical-align: top;\n",
       "    }\n",
       "\n",
       "    .dataframe thead th {\n",
       "        text-align: right;\n",
       "    }\n",
       "</style>\n",
       "<table border=\"1\" class=\"dataframe\">\n",
       "  <thead>\n",
       "    <tr style=\"text-align: right;\">\n",
       "      <th></th>\n",
       "      <th>attribute</th>\n",
       "      <th>information_level</th>\n",
       "      <th>type</th>\n",
       "      <th>missing_or_unknown</th>\n",
       "    </tr>\n",
       "  </thead>\n",
       "  <tbody>\n",
       "    <tr>\n",
       "      <th>0</th>\n",
       "      <td>AGER_TYP</td>\n",
       "      <td>person</td>\n",
       "      <td>categorical</td>\n",
       "      <td>[-1,0]</td>\n",
       "    </tr>\n",
       "    <tr>\n",
       "      <th>1</th>\n",
       "      <td>ALTERSKATEGORIE_GROB</td>\n",
       "      <td>person</td>\n",
       "      <td>ordinal</td>\n",
       "      <td>[-1,0,9]</td>\n",
       "    </tr>\n",
       "    <tr>\n",
       "      <th>2</th>\n",
       "      <td>ANREDE_KZ</td>\n",
       "      <td>person</td>\n",
       "      <td>categorical</td>\n",
       "      <td>[-1,0]</td>\n",
       "    </tr>\n",
       "  </tbody>\n",
       "</table>\n",
       "</div>"
      ],
      "text/plain": [
       "              attribute information_level         type missing_or_unknown\n",
       "0              AGER_TYP            person  categorical             [-1,0]\n",
       "1  ALTERSKATEGORIE_GROB            person      ordinal           [-1,0,9]\n",
       "2             ANREDE_KZ            person  categorical             [-1,0]"
      ]
     },
     "execution_count": 6,
     "metadata": {},
     "output_type": "execute_result"
    }
   ],
   "source": [
    "# View the feature information\n",
    "feat_info.head(3)"
   ]
  },
  {
   "cell_type": "code",
   "execution_count": 7,
   "metadata": {},
   "outputs": [
    {
     "data": {
      "text/html": [
       "<div>\n",
       "<style scoped>\n",
       "    .dataframe tbody tr th:only-of-type {\n",
       "        vertical-align: middle;\n",
       "    }\n",
       "\n",
       "    .dataframe tbody tr th {\n",
       "        vertical-align: top;\n",
       "    }\n",
       "\n",
       "    .dataframe thead th {\n",
       "        text-align: right;\n",
       "    }\n",
       "</style>\n",
       "<table border=\"1\" class=\"dataframe\">\n",
       "  <thead>\n",
       "    <tr style=\"text-align: right;\">\n",
       "      <th></th>\n",
       "      <th>AGER_TYP</th>\n",
       "      <th>ALTERSKATEGORIE_GROB</th>\n",
       "      <th>ANREDE_KZ</th>\n",
       "      <th>CJT_GESAMTTYP</th>\n",
       "      <th>FINANZ_MINIMALIST</th>\n",
       "      <th>FINANZ_SPARER</th>\n",
       "      <th>FINANZ_VORSORGER</th>\n",
       "      <th>FINANZ_ANLEGER</th>\n",
       "      <th>FINANZ_UNAUFFAELLIGER</th>\n",
       "      <th>FINANZ_HAUSBAUER</th>\n",
       "      <th>...</th>\n",
       "      <th>PLZ8_ANTG1</th>\n",
       "      <th>PLZ8_ANTG2</th>\n",
       "      <th>PLZ8_ANTG3</th>\n",
       "      <th>PLZ8_ANTG4</th>\n",
       "      <th>PLZ8_BAUMAX</th>\n",
       "      <th>PLZ8_HHZ</th>\n",
       "      <th>PLZ8_GBZ</th>\n",
       "      <th>ARBEIT</th>\n",
       "      <th>ORTSGR_KLS9</th>\n",
       "      <th>RELAT_AB</th>\n",
       "    </tr>\n",
       "  </thead>\n",
       "  <tbody>\n",
       "    <tr>\n",
       "      <th>count</th>\n",
       "      <td>891221.000000</td>\n",
       "      <td>891221.000000</td>\n",
       "      <td>891221.000000</td>\n",
       "      <td>886367.000000</td>\n",
       "      <td>891221.000000</td>\n",
       "      <td>891221.000000</td>\n",
       "      <td>891221.000000</td>\n",
       "      <td>891221.000000</td>\n",
       "      <td>891221.000000</td>\n",
       "      <td>891221.000000</td>\n",
       "      <td>...</td>\n",
       "      <td>774706.000000</td>\n",
       "      <td>774706.000000</td>\n",
       "      <td>774706.000000</td>\n",
       "      <td>774706.000000</td>\n",
       "      <td>774706.000000</td>\n",
       "      <td>774706.000000</td>\n",
       "      <td>774706.000000</td>\n",
       "      <td>794005.000000</td>\n",
       "      <td>794005.000000</td>\n",
       "      <td>794005.00000</td>\n",
       "    </tr>\n",
       "    <tr>\n",
       "      <th>mean</th>\n",
       "      <td>-0.358435</td>\n",
       "      <td>2.777398</td>\n",
       "      <td>1.522098</td>\n",
       "      <td>3.632838</td>\n",
       "      <td>3.074528</td>\n",
       "      <td>2.821039</td>\n",
       "      <td>3.401106</td>\n",
       "      <td>3.033328</td>\n",
       "      <td>2.874167</td>\n",
       "      <td>3.075121</td>\n",
       "      <td>...</td>\n",
       "      <td>2.253330</td>\n",
       "      <td>2.801858</td>\n",
       "      <td>1.595426</td>\n",
       "      <td>0.699166</td>\n",
       "      <td>1.943913</td>\n",
       "      <td>3.612821</td>\n",
       "      <td>3.381087</td>\n",
       "      <td>3.167854</td>\n",
       "      <td>5.293002</td>\n",
       "      <td>3.07222</td>\n",
       "    </tr>\n",
       "    <tr>\n",
       "      <th>std</th>\n",
       "      <td>1.198724</td>\n",
       "      <td>1.068775</td>\n",
       "      <td>0.499512</td>\n",
       "      <td>1.595021</td>\n",
       "      <td>1.321055</td>\n",
       "      <td>1.464749</td>\n",
       "      <td>1.322134</td>\n",
       "      <td>1.529603</td>\n",
       "      <td>1.486731</td>\n",
       "      <td>1.353248</td>\n",
       "      <td>...</td>\n",
       "      <td>0.972008</td>\n",
       "      <td>0.920309</td>\n",
       "      <td>0.986736</td>\n",
       "      <td>0.727137</td>\n",
       "      <td>1.459654</td>\n",
       "      <td>0.973967</td>\n",
       "      <td>1.111598</td>\n",
       "      <td>1.002376</td>\n",
       "      <td>2.303739</td>\n",
       "      <td>1.36298</td>\n",
       "    </tr>\n",
       "    <tr>\n",
       "      <th>min</th>\n",
       "      <td>-1.000000</td>\n",
       "      <td>1.000000</td>\n",
       "      <td>1.000000</td>\n",
       "      <td>1.000000</td>\n",
       "      <td>1.000000</td>\n",
       "      <td>1.000000</td>\n",
       "      <td>1.000000</td>\n",
       "      <td>1.000000</td>\n",
       "      <td>1.000000</td>\n",
       "      <td>1.000000</td>\n",
       "      <td>...</td>\n",
       "      <td>0.000000</td>\n",
       "      <td>0.000000</td>\n",
       "      <td>0.000000</td>\n",
       "      <td>0.000000</td>\n",
       "      <td>1.000000</td>\n",
       "      <td>1.000000</td>\n",
       "      <td>1.000000</td>\n",
       "      <td>1.000000</td>\n",
       "      <td>0.000000</td>\n",
       "      <td>1.00000</td>\n",
       "    </tr>\n",
       "    <tr>\n",
       "      <th>25%</th>\n",
       "      <td>-1.000000</td>\n",
       "      <td>2.000000</td>\n",
       "      <td>1.000000</td>\n",
       "      <td>2.000000</td>\n",
       "      <td>2.000000</td>\n",
       "      <td>1.000000</td>\n",
       "      <td>3.000000</td>\n",
       "      <td>2.000000</td>\n",
       "      <td>2.000000</td>\n",
       "      <td>2.000000</td>\n",
       "      <td>...</td>\n",
       "      <td>1.000000</td>\n",
       "      <td>2.000000</td>\n",
       "      <td>1.000000</td>\n",
       "      <td>0.000000</td>\n",
       "      <td>1.000000</td>\n",
       "      <td>3.000000</td>\n",
       "      <td>3.000000</td>\n",
       "      <td>3.000000</td>\n",
       "      <td>4.000000</td>\n",
       "      <td>2.00000</td>\n",
       "    </tr>\n",
       "    <tr>\n",
       "      <th>50%</th>\n",
       "      <td>-1.000000</td>\n",
       "      <td>3.000000</td>\n",
       "      <td>2.000000</td>\n",
       "      <td>4.000000</td>\n",
       "      <td>3.000000</td>\n",
       "      <td>3.000000</td>\n",
       "      <td>3.000000</td>\n",
       "      <td>3.000000</td>\n",
       "      <td>3.000000</td>\n",
       "      <td>3.000000</td>\n",
       "      <td>...</td>\n",
       "      <td>2.000000</td>\n",
       "      <td>3.000000</td>\n",
       "      <td>2.000000</td>\n",
       "      <td>1.000000</td>\n",
       "      <td>1.000000</td>\n",
       "      <td>4.000000</td>\n",
       "      <td>3.000000</td>\n",
       "      <td>3.000000</td>\n",
       "      <td>5.000000</td>\n",
       "      <td>3.00000</td>\n",
       "    </tr>\n",
       "    <tr>\n",
       "      <th>75%</th>\n",
       "      <td>-1.000000</td>\n",
       "      <td>4.000000</td>\n",
       "      <td>2.000000</td>\n",
       "      <td>5.000000</td>\n",
       "      <td>4.000000</td>\n",
       "      <td>4.000000</td>\n",
       "      <td>5.000000</td>\n",
       "      <td>5.000000</td>\n",
       "      <td>4.000000</td>\n",
       "      <td>4.000000</td>\n",
       "      <td>...</td>\n",
       "      <td>3.000000</td>\n",
       "      <td>3.000000</td>\n",
       "      <td>2.000000</td>\n",
       "      <td>1.000000</td>\n",
       "      <td>3.000000</td>\n",
       "      <td>4.000000</td>\n",
       "      <td>4.000000</td>\n",
       "      <td>4.000000</td>\n",
       "      <td>7.000000</td>\n",
       "      <td>4.00000</td>\n",
       "    </tr>\n",
       "    <tr>\n",
       "      <th>max</th>\n",
       "      <td>3.000000</td>\n",
       "      <td>9.000000</td>\n",
       "      <td>2.000000</td>\n",
       "      <td>6.000000</td>\n",
       "      <td>5.000000</td>\n",
       "      <td>5.000000</td>\n",
       "      <td>5.000000</td>\n",
       "      <td>5.000000</td>\n",
       "      <td>5.000000</td>\n",
       "      <td>5.000000</td>\n",
       "      <td>...</td>\n",
       "      <td>4.000000</td>\n",
       "      <td>4.000000</td>\n",
       "      <td>3.000000</td>\n",
       "      <td>2.000000</td>\n",
       "      <td>5.000000</td>\n",
       "      <td>5.000000</td>\n",
       "      <td>5.000000</td>\n",
       "      <td>9.000000</td>\n",
       "      <td>9.000000</td>\n",
       "      <td>9.00000</td>\n",
       "    </tr>\n",
       "  </tbody>\n",
       "</table>\n",
       "<p>8 rows × 81 columns</p>\n",
       "</div>"
      ],
      "text/plain": [
       "            AGER_TYP  ALTERSKATEGORIE_GROB      ANREDE_KZ  CJT_GESAMTTYP  \\\n",
       "count  891221.000000         891221.000000  891221.000000  886367.000000   \n",
       "mean       -0.358435              2.777398       1.522098       3.632838   \n",
       "std         1.198724              1.068775       0.499512       1.595021   \n",
       "min        -1.000000              1.000000       1.000000       1.000000   \n",
       "25%        -1.000000              2.000000       1.000000       2.000000   \n",
       "50%        -1.000000              3.000000       2.000000       4.000000   \n",
       "75%        -1.000000              4.000000       2.000000       5.000000   \n",
       "max         3.000000              9.000000       2.000000       6.000000   \n",
       "\n",
       "       FINANZ_MINIMALIST  FINANZ_SPARER  FINANZ_VORSORGER  FINANZ_ANLEGER  \\\n",
       "count      891221.000000  891221.000000     891221.000000   891221.000000   \n",
       "mean            3.074528       2.821039          3.401106        3.033328   \n",
       "std             1.321055       1.464749          1.322134        1.529603   \n",
       "min             1.000000       1.000000          1.000000        1.000000   \n",
       "25%             2.000000       1.000000          3.000000        2.000000   \n",
       "50%             3.000000       3.000000          3.000000        3.000000   \n",
       "75%             4.000000       4.000000          5.000000        5.000000   \n",
       "max             5.000000       5.000000          5.000000        5.000000   \n",
       "\n",
       "       FINANZ_UNAUFFAELLIGER  FINANZ_HAUSBAUER      ...          PLZ8_ANTG1  \\\n",
       "count          891221.000000     891221.000000      ...       774706.000000   \n",
       "mean                2.874167          3.075121      ...            2.253330   \n",
       "std                 1.486731          1.353248      ...            0.972008   \n",
       "min                 1.000000          1.000000      ...            0.000000   \n",
       "25%                 2.000000          2.000000      ...            1.000000   \n",
       "50%                 3.000000          3.000000      ...            2.000000   \n",
       "75%                 4.000000          4.000000      ...            3.000000   \n",
       "max                 5.000000          5.000000      ...            4.000000   \n",
       "\n",
       "          PLZ8_ANTG2     PLZ8_ANTG3     PLZ8_ANTG4    PLZ8_BAUMAX  \\\n",
       "count  774706.000000  774706.000000  774706.000000  774706.000000   \n",
       "mean        2.801858       1.595426       0.699166       1.943913   \n",
       "std         0.920309       0.986736       0.727137       1.459654   \n",
       "min         0.000000       0.000000       0.000000       1.000000   \n",
       "25%         2.000000       1.000000       0.000000       1.000000   \n",
       "50%         3.000000       2.000000       1.000000       1.000000   \n",
       "75%         3.000000       2.000000       1.000000       3.000000   \n",
       "max         4.000000       3.000000       2.000000       5.000000   \n",
       "\n",
       "            PLZ8_HHZ       PLZ8_GBZ         ARBEIT    ORTSGR_KLS9  \\\n",
       "count  774706.000000  774706.000000  794005.000000  794005.000000   \n",
       "mean        3.612821       3.381087       3.167854       5.293002   \n",
       "std         0.973967       1.111598       1.002376       2.303739   \n",
       "min         1.000000       1.000000       1.000000       0.000000   \n",
       "25%         3.000000       3.000000       3.000000       4.000000   \n",
       "50%         4.000000       3.000000       3.000000       5.000000   \n",
       "75%         4.000000       4.000000       4.000000       7.000000   \n",
       "max         5.000000       5.000000       9.000000       9.000000   \n",
       "\n",
       "           RELAT_AB  \n",
       "count  794005.00000  \n",
       "mean        3.07222  \n",
       "std         1.36298  \n",
       "min         1.00000  \n",
       "25%         2.00000  \n",
       "50%         3.00000  \n",
       "75%         4.00000  \n",
       "max         9.00000  \n",
       "\n",
       "[8 rows x 81 columns]"
      ]
     },
     "execution_count": 7,
     "metadata": {},
     "output_type": "execute_result"
    }
   ],
   "source": [
    "# Look at summary statistics for the data\n",
    "azdias.describe()"
   ]
  },
  {
   "cell_type": "code",
   "execution_count": 8,
   "metadata": {},
   "outputs": [
    {
     "data": {
      "text/plain": [
       "array(['categorical', 'ordinal', 'numeric', 'mixed', 'interval'], dtype=object)"
      ]
     },
     "execution_count": 8,
     "metadata": {},
     "output_type": "execute_result"
    }
   ],
   "source": [
    "# What are all the types of data\n",
    "feat_info[\"type\"].unique()"
   ]
  },
  {
   "cell_type": "code",
   "execution_count": 9,
   "metadata": {},
   "outputs": [
    {
     "data": {
      "text/plain": [
       "array(['person', 'household', 'building', 'microcell_rr4', 'microcell_rr3',\n",
       "       'postcode', 'region_rr1', 'macrocell_plz8', 'community'], dtype=object)"
      ]
     },
     "execution_count": 9,
     "metadata": {},
     "output_type": "execute_result"
    }
   ],
   "source": [
    "# What are all the information levels\n",
    "feat_info[\"information_level\"].unique()"
   ]
  },
  {
   "cell_type": "code",
   "execution_count": 10,
   "metadata": {},
   "outputs": [
    {
     "data": {
      "text/plain": [
       "4896838"
      ]
     },
     "execution_count": 10,
     "metadata": {},
     "output_type": "execute_result"
    }
   ],
   "source": [
    "# How many (total) missing values are there\n",
    "azdias.isnull().sum().sum()"
   ]
  },
  {
   "cell_type": "markdown",
   "metadata": {},
   "source": [
    "> **Tip**: Add additional cells to keep everything in reasonably-sized chunks! Keyboard shortcut `esc --> a` (press escape to enter command mode, then press the 'A' key) adds a new cell before the active cell, and `esc --> b` adds a new cell after the active cell. If you need to convert an active cell to a markdown cell, use `esc --> m` and to convert to a code cell, use `esc --> y`. \n",
    "\n",
    "## Step 1: Preprocessing\n",
    "\n",
    "### Step 1.1: Assess Missing Data\n",
    "\n",
    "The feature summary file contains a summary of properties for each demographics data column. You will use this file to help you make cleaning decisions during this stage of the project. First of all, you should assess the demographics data in terms of missing data. Pay attention to the following points as you perform your analysis, and take notes on what you observe. Make sure that you fill in the **Discussion** cell with your findings and decisions at the end of each step that has one!\n",
    "\n",
    "#### Step 1.1.1: Convert Missing Value Codes to NaNs\n",
    "The fourth column of the feature attributes summary (loaded in above as `feat_info`) documents the codes from the data dictionary that indicate missing or unknown data. While the file encodes this as a list (e.g. `[-1,0]`), this will get read in as a string object. You'll need to do a little bit of parsing to make use of it to identify and clean the data. Convert data that matches a 'missing' or 'unknown' value code into a numpy NaN value. You might want to see how much data takes on a 'missing' or 'unknown' code, and how much data is naturally missing, as a point of interest.\n",
    "\n",
    "**As one more reminder, you are encouraged to add additional cells to break up your analysis into manageable chunks.**"
   ]
  },
  {
   "cell_type": "code",
   "execution_count": 11,
   "metadata": {},
   "outputs": [],
   "source": [
    "# Define a function that converts the string of list to a list\n",
    "def string_to_list(s):\n",
    "    if len(s) > 2:\n",
    "        L = [x for x in s[1:-1].split(\",\")]\n",
    "        return [int(x) if x.lstrip('-').isnumeric() else x for x in L]\n",
    "    else:\n",
    "        return [\"\"] # Awkward workaround due to pandas not being at the latest version"
   ]
  },
  {
   "cell_type": "code",
   "execution_count": 12,
   "metadata": {},
   "outputs": [],
   "source": [
    "# Define a function that identifies how many naturally occuring missing/unknown values and how many are encoded\n",
    "# Takes in a series, a missing values list, and a variable name and outputs a dictionary\n",
    "def naturally_missing(sr, mvs):\n",
    "    vcs = sr.value_counts()\n",
    "    nat = sr.isnull().sum()\n",
    "    enc = sum([vcs[a] for a in m if a in vcs.index])\n",
    "    return {\"NaN\": nat, \"Missing/Unknown\": enc}"
   ]
  },
  {
   "cell_type": "code",
   "execution_count": 13,
   "metadata": {},
   "outputs": [],
   "source": [
    "# Find the naturally missing/encoded missing amounts:\n",
    "nan_info_dict = {}\n",
    "for c in list(azdias):\n",
    "    m = string_to_list(feat_info[feat_info[\"attribute\"] == c][\"missing_or_unknown\"].values[0])\n",
    "    nan_info_dict[c] = naturally_missing(azdias[c], m)"
   ]
  },
  {
   "cell_type": "code",
   "execution_count": 14,
   "metadata": {},
   "outputs": [],
   "source": [
    "# Replace all missing/encoded values with NaN\n",
    "cols = list(azdias)\n",
    "for c in cols:\n",
    "    m = string_to_list(feat_info[feat_info[\"attribute\"] == c][\"missing_or_unknown\"].values[0])\n",
    "    azdias[c].replace(m, np.NaN, inplace=True)"
   ]
  },
  {
   "cell_type": "code",
   "execution_count": 15,
   "metadata": {},
   "outputs": [
    {
     "data": {
      "text/plain": [
       "8373929"
      ]
     },
     "execution_count": 15,
     "metadata": {},
     "output_type": "execute_result"
    }
   ],
   "source": [
    "azdias.isnull().sum().sum()"
   ]
  },
  {
   "cell_type": "code",
   "execution_count": 16,
   "metadata": {},
   "outputs": [
    {
     "data": {
      "text/html": [
       "<div>\n",
       "<style scoped>\n",
       "    .dataframe tbody tr th:only-of-type {\n",
       "        vertical-align: middle;\n",
       "    }\n",
       "\n",
       "    .dataframe tbody tr th {\n",
       "        vertical-align: top;\n",
       "    }\n",
       "\n",
       "    .dataframe thead th {\n",
       "        text-align: right;\n",
       "    }\n",
       "</style>\n",
       "<table border=\"1\" class=\"dataframe\">\n",
       "  <thead>\n",
       "    <tr style=\"text-align: right;\">\n",
       "      <th></th>\n",
       "      <th>AGER_TYP</th>\n",
       "      <th>ALTERSKATEGORIE_GROB</th>\n",
       "      <th>ANREDE_KZ</th>\n",
       "      <th>CJT_GESAMTTYP</th>\n",
       "      <th>FINANZ_MINIMALIST</th>\n",
       "      <th>FINANZ_SPARER</th>\n",
       "      <th>FINANZ_VORSORGER</th>\n",
       "      <th>FINANZ_ANLEGER</th>\n",
       "      <th>FINANZ_UNAUFFAELLIGER</th>\n",
       "      <th>FINANZ_HAUSBAUER</th>\n",
       "      <th>...</th>\n",
       "      <th>PLZ8_ANTG1</th>\n",
       "      <th>PLZ8_ANTG2</th>\n",
       "      <th>PLZ8_ANTG3</th>\n",
       "      <th>PLZ8_ANTG4</th>\n",
       "      <th>PLZ8_BAUMAX</th>\n",
       "      <th>PLZ8_HHZ</th>\n",
       "      <th>PLZ8_GBZ</th>\n",
       "      <th>ARBEIT</th>\n",
       "      <th>ORTSGR_KLS9</th>\n",
       "      <th>RELAT_AB</th>\n",
       "    </tr>\n",
       "  </thead>\n",
       "  <tbody>\n",
       "    <tr>\n",
       "      <th>0</th>\n",
       "      <td>NaN</td>\n",
       "      <td>2.0</td>\n",
       "      <td>1</td>\n",
       "      <td>2.0</td>\n",
       "      <td>3</td>\n",
       "      <td>4</td>\n",
       "      <td>3</td>\n",
       "      <td>5</td>\n",
       "      <td>5</td>\n",
       "      <td>3</td>\n",
       "      <td>...</td>\n",
       "      <td>NaN</td>\n",
       "      <td>NaN</td>\n",
       "      <td>NaN</td>\n",
       "      <td>NaN</td>\n",
       "      <td>NaN</td>\n",
       "      <td>NaN</td>\n",
       "      <td>NaN</td>\n",
       "      <td>NaN</td>\n",
       "      <td>NaN</td>\n",
       "      <td>NaN</td>\n",
       "    </tr>\n",
       "    <tr>\n",
       "      <th>1</th>\n",
       "      <td>NaN</td>\n",
       "      <td>1.0</td>\n",
       "      <td>2</td>\n",
       "      <td>5.0</td>\n",
       "      <td>1</td>\n",
       "      <td>5</td>\n",
       "      <td>2</td>\n",
       "      <td>5</td>\n",
       "      <td>4</td>\n",
       "      <td>5</td>\n",
       "      <td>...</td>\n",
       "      <td>2.0</td>\n",
       "      <td>3.0</td>\n",
       "      <td>2.0</td>\n",
       "      <td>1.0</td>\n",
       "      <td>1.0</td>\n",
       "      <td>5.0</td>\n",
       "      <td>4.0</td>\n",
       "      <td>3.0</td>\n",
       "      <td>5.0</td>\n",
       "      <td>4.0</td>\n",
       "    </tr>\n",
       "    <tr>\n",
       "      <th>2</th>\n",
       "      <td>NaN</td>\n",
       "      <td>3.0</td>\n",
       "      <td>2</td>\n",
       "      <td>3.0</td>\n",
       "      <td>1</td>\n",
       "      <td>4</td>\n",
       "      <td>1</td>\n",
       "      <td>2</td>\n",
       "      <td>3</td>\n",
       "      <td>5</td>\n",
       "      <td>...</td>\n",
       "      <td>3.0</td>\n",
       "      <td>3.0</td>\n",
       "      <td>1.0</td>\n",
       "      <td>0.0</td>\n",
       "      <td>1.0</td>\n",
       "      <td>4.0</td>\n",
       "      <td>4.0</td>\n",
       "      <td>3.0</td>\n",
       "      <td>5.0</td>\n",
       "      <td>2.0</td>\n",
       "    </tr>\n",
       "  </tbody>\n",
       "</table>\n",
       "<p>3 rows × 85 columns</p>\n",
       "</div>"
      ],
      "text/plain": [
       "   AGER_TYP  ALTERSKATEGORIE_GROB  ANREDE_KZ  CJT_GESAMTTYP  \\\n",
       "0       NaN                   2.0          1            2.0   \n",
       "1       NaN                   1.0          2            5.0   \n",
       "2       NaN                   3.0          2            3.0   \n",
       "\n",
       "   FINANZ_MINIMALIST  FINANZ_SPARER  FINANZ_VORSORGER  FINANZ_ANLEGER  \\\n",
       "0                  3              4                 3               5   \n",
       "1                  1              5                 2               5   \n",
       "2                  1              4                 1               2   \n",
       "\n",
       "   FINANZ_UNAUFFAELLIGER  FINANZ_HAUSBAUER    ...     PLZ8_ANTG1  PLZ8_ANTG2  \\\n",
       "0                      5                 3    ...            NaN         NaN   \n",
       "1                      4                 5    ...            2.0         3.0   \n",
       "2                      3                 5    ...            3.0         3.0   \n",
       "\n",
       "   PLZ8_ANTG3  PLZ8_ANTG4  PLZ8_BAUMAX  PLZ8_HHZ  PLZ8_GBZ  ARBEIT  \\\n",
       "0         NaN         NaN          NaN       NaN       NaN     NaN   \n",
       "1         2.0         1.0          1.0       5.0       4.0     3.0   \n",
       "2         1.0         0.0          1.0       4.0       4.0     3.0   \n",
       "\n",
       "   ORTSGR_KLS9  RELAT_AB  \n",
       "0          NaN       NaN  \n",
       "1          5.0       4.0  \n",
       "2          5.0       2.0  \n",
       "\n",
       "[3 rows x 85 columns]"
      ]
     },
     "execution_count": 16,
     "metadata": {},
     "output_type": "execute_result"
    }
   ],
   "source": [
    "azdias.head(3)"
   ]
  },
  {
   "cell_type": "markdown",
   "metadata": {},
   "source": [
    "#### Step 1.1.2: Assess Missing Data in Each Column\n",
    "\n",
    "How much missing data is present in each column? There are a few columns that are outliers in terms of the proportion of values that are missing. You will want to use matplotlib's [`hist()`](https://matplotlib.org/api/_as_gen/matplotlib.pyplot.hist.html) function to visualize the distribution of missing value counts to find these columns. Identify and document these columns. While some of these columns might have justifications for keeping or re-encoding the data, for this project you should just remove them from the dataframe. (Feel free to make remarks about these outlier columns in the discussion, however!)\n",
    "\n",
    "For the remaining features, are there any patterns in which columns have, or share, missing data?"
   ]
  },
  {
   "cell_type": "code",
   "execution_count": 17,
   "metadata": {},
   "outputs": [
    {
     "data": {
      "text/html": [
       "<div>\n",
       "<style scoped>\n",
       "    .dataframe tbody tr th:only-of-type {\n",
       "        vertical-align: middle;\n",
       "    }\n",
       "\n",
       "    .dataframe tbody tr th {\n",
       "        vertical-align: top;\n",
       "    }\n",
       "\n",
       "    .dataframe thead th {\n",
       "        text-align: right;\n",
       "    }\n",
       "</style>\n",
       "<table border=\"1\" class=\"dataframe\">\n",
       "  <thead>\n",
       "    <tr style=\"text-align: right;\">\n",
       "      <th></th>\n",
       "      <th>Missing/Unknown</th>\n",
       "      <th>NaN</th>\n",
       "      <th>Total</th>\n",
       "      <th>Percent_Missing</th>\n",
       "    </tr>\n",
       "  </thead>\n",
       "  <tbody>\n",
       "    <tr>\n",
       "      <th>AGER_TYP</th>\n",
       "      <td>685843</td>\n",
       "      <td>0</td>\n",
       "      <td>685843</td>\n",
       "      <td>0.769554</td>\n",
       "    </tr>\n",
       "    <tr>\n",
       "      <th>ALTERSKATEGORIE_GROB</th>\n",
       "      <td>2881</td>\n",
       "      <td>0</td>\n",
       "      <td>2881</td>\n",
       "      <td>0.003233</td>\n",
       "    </tr>\n",
       "    <tr>\n",
       "      <th>ANREDE_KZ</th>\n",
       "      <td>0</td>\n",
       "      <td>0</td>\n",
       "      <td>0</td>\n",
       "      <td>0.000000</td>\n",
       "    </tr>\n",
       "    <tr>\n",
       "      <th>CJT_GESAMTTYP</th>\n",
       "      <td>0</td>\n",
       "      <td>4854</td>\n",
       "      <td>4854</td>\n",
       "      <td>0.005446</td>\n",
       "    </tr>\n",
       "    <tr>\n",
       "      <th>FINANZ_MINIMALIST</th>\n",
       "      <td>0</td>\n",
       "      <td>0</td>\n",
       "      <td>0</td>\n",
       "      <td>0.000000</td>\n",
       "    </tr>\n",
       "  </tbody>\n",
       "</table>\n",
       "</div>"
      ],
      "text/plain": [
       "                      Missing/Unknown   NaN   Total  Percent_Missing\n",
       "AGER_TYP                       685843     0  685843         0.769554\n",
       "ALTERSKATEGORIE_GROB             2881     0    2881         0.003233\n",
       "ANREDE_KZ                           0     0       0         0.000000\n",
       "CJT_GESAMTTYP                       0  4854    4854         0.005446\n",
       "FINANZ_MINIMALIST                   0     0       0         0.000000"
      ]
     },
     "execution_count": 17,
     "metadata": {},
     "output_type": "execute_result"
    }
   ],
   "source": [
    "# Perform an assessment of how much missing data there is in each column of the\n",
    "# dataset.\n",
    "missing_values = pd.DataFrame(nan_info_dict).transpose()\n",
    "missing_values[\"Total\"] = missing_values.sum(axis=1)\n",
    "missing_values[\"Percent_Missing\"] = missing_values[\"Total\"]/len(azdias)\n",
    "missing_values.head()"
   ]
  },
  {
   "cell_type": "code",
   "execution_count": 18,
   "metadata": {},
   "outputs": [
    {
     "data": {
      "text/plain": [
       "array([[<matplotlib.axes._subplots.AxesSubplot object at 0x7fc0e97a44e0>,\n",
       "        <matplotlib.axes._subplots.AxesSubplot object at 0x7fc0e900c2b0>],\n",
       "       [<matplotlib.axes._subplots.AxesSubplot object at 0x7fc0e8fc4320>,\n",
       "        <matplotlib.axes._subplots.AxesSubplot object at 0x7fc0e8f77400>]], dtype=object)"
      ]
     },
     "execution_count": 18,
     "metadata": {},
     "output_type": "execute_result"
    },
    {
     "data": {
      "image/png": "[encoded data removed]",
      "text/plain": [
       "<matplotlib.figure.Figure at 0x7fc0e97def98>"
      ]
     },
     "metadata": {
      "needs_background": "light"
     },
     "output_type": "display_data"
    }
   ],
   "source": [
    "# Investigate patterns in the amount of missing data in each column.\n",
    "missing_values[[\"Missing/Unknown\", \"NaN\", \"Percent_Missing\"]].hist(bins=25, figsize=(15,15))\n"
   ]
  },
  {
   "cell_type": "code",
   "execution_count": 19,
   "metadata": {},
   "outputs": [
    {
     "data": {
      "text/html": [
       "<div>\n",
       "<style scoped>\n",
       "    .dataframe tbody tr th:only-of-type {\n",
       "        vertical-align: middle;\n",
       "    }\n",
       "\n",
       "    .dataframe tbody tr th {\n",
       "        vertical-align: top;\n",
       "    }\n",
       "\n",
       "    .dataframe thead th {\n",
       "        text-align: right;\n",
       "    }\n",
       "</style>\n",
       "<table border=\"1\" class=\"dataframe\">\n",
       "  <thead>\n",
       "    <tr style=\"text-align: right;\">\n",
       "      <th></th>\n",
       "      <th>Missing/Unknown</th>\n",
       "      <th>NaN</th>\n",
       "      <th>Total</th>\n",
       "      <th>Percent_Missing</th>\n",
       "    </tr>\n",
       "  </thead>\n",
       "  <tbody>\n",
       "    <tr>\n",
       "      <th>AGER_TYP</th>\n",
       "      <td>685843</td>\n",
       "      <td>0</td>\n",
       "      <td>685843</td>\n",
       "      <td>0.769554</td>\n",
       "    </tr>\n",
       "    <tr>\n",
       "      <th>GEBURTSJAHR</th>\n",
       "      <td>392318</td>\n",
       "      <td>0</td>\n",
       "      <td>392318</td>\n",
       "      <td>0.440203</td>\n",
       "    </tr>\n",
       "    <tr>\n",
       "      <th>TITEL_KZ</th>\n",
       "      <td>815562</td>\n",
       "      <td>73499</td>\n",
       "      <td>889061</td>\n",
       "      <td>0.997576</td>\n",
       "    </tr>\n",
       "    <tr>\n",
       "      <th>ALTER_HH</th>\n",
       "      <td>236768</td>\n",
       "      <td>73499</td>\n",
       "      <td>310267</td>\n",
       "      <td>0.348137</td>\n",
       "    </tr>\n",
       "    <tr>\n",
       "      <th>KK_KUNDENTYP</th>\n",
       "      <td>0</td>\n",
       "      <td>584612</td>\n",
       "      <td>584612</td>\n",
       "      <td>0.655967</td>\n",
       "    </tr>\n",
       "    <tr>\n",
       "      <th>KBA05_BAUMAX</th>\n",
       "      <td>343200</td>\n",
       "      <td>133324</td>\n",
       "      <td>476524</td>\n",
       "      <td>0.534687</td>\n",
       "    </tr>\n",
       "  </tbody>\n",
       "</table>\n",
       "</div>"
      ],
      "text/plain": [
       "              Missing/Unknown     NaN   Total  Percent_Missing\n",
       "AGER_TYP               685843       0  685843         0.769554\n",
       "GEBURTSJAHR            392318       0  392318         0.440203\n",
       "TITEL_KZ               815562   73499  889061         0.997576\n",
       "ALTER_HH               236768   73499  310267         0.348137\n",
       "KK_KUNDENTYP                0  584612  584612         0.655967\n",
       "KBA05_BAUMAX           343200  133324  476524         0.534687"
      ]
     },
     "execution_count": 19,
     "metadata": {},
     "output_type": "execute_result"
    }
   ],
   "source": [
    "# How many categories have over a quarter of the data missing?\n",
    "missing_values[missing_values[\"Percent_Missing\"] > 0.25]"
   ]
  },
  {
   "cell_type": "code",
   "execution_count": 20,
   "metadata": {},
   "outputs": [
    {
     "data": {
      "text/html": [
       "<div>\n",
       "<style scoped>\n",
       "    .dataframe tbody tr th:only-of-type {\n",
       "        vertical-align: middle;\n",
       "    }\n",
       "\n",
       "    .dataframe tbody tr th {\n",
       "        vertical-align: top;\n",
       "    }\n",
       "\n",
       "    .dataframe thead th {\n",
       "        text-align: right;\n",
       "    }\n",
       "</style>\n",
       "<table border=\"1\" class=\"dataframe\">\n",
       "  <thead>\n",
       "    <tr style=\"text-align: right;\">\n",
       "      <th></th>\n",
       "      <th>attribute</th>\n",
       "      <th>information_level</th>\n",
       "      <th>type</th>\n",
       "      <th>missing_or_unknown</th>\n",
       "    </tr>\n",
       "  </thead>\n",
       "  <tbody>\n",
       "    <tr>\n",
       "      <th>0</th>\n",
       "      <td>AGER_TYP</td>\n",
       "      <td>person</td>\n",
       "      <td>categorical</td>\n",
       "      <td>[-1,0]</td>\n",
       "    </tr>\n",
       "    <tr>\n",
       "      <th>11</th>\n",
       "      <td>GEBURTSJAHR</td>\n",
       "      <td>person</td>\n",
       "      <td>numeric</td>\n",
       "      <td>[0]</td>\n",
       "    </tr>\n",
       "    <tr>\n",
       "      <th>40</th>\n",
       "      <td>TITEL_KZ</td>\n",
       "      <td>person</td>\n",
       "      <td>categorical</td>\n",
       "      <td>[-1,0]</td>\n",
       "    </tr>\n",
       "    <tr>\n",
       "      <th>43</th>\n",
       "      <td>ALTER_HH</td>\n",
       "      <td>household</td>\n",
       "      <td>interval</td>\n",
       "      <td>[0]</td>\n",
       "    </tr>\n",
       "    <tr>\n",
       "      <th>47</th>\n",
       "      <td>KK_KUNDENTYP</td>\n",
       "      <td>household</td>\n",
       "      <td>categorical</td>\n",
       "      <td>[-1]</td>\n",
       "    </tr>\n",
       "    <tr>\n",
       "      <th>64</th>\n",
       "      <td>KBA05_BAUMAX</td>\n",
       "      <td>microcell_rr3</td>\n",
       "      <td>mixed</td>\n",
       "      <td>[-1,0]</td>\n",
       "    </tr>\n",
       "  </tbody>\n",
       "</table>\n",
       "</div>"
      ],
      "text/plain": [
       "       attribute information_level         type missing_or_unknown\n",
       "0       AGER_TYP            person  categorical             [-1,0]\n",
       "11   GEBURTSJAHR            person      numeric                [0]\n",
       "40      TITEL_KZ            person  categorical             [-1,0]\n",
       "43      ALTER_HH         household     interval                [0]\n",
       "47  KK_KUNDENTYP         household  categorical               [-1]\n",
       "64  KBA05_BAUMAX     microcell_rr3        mixed             [-1,0]"
      ]
     },
     "execution_count": 20,
     "metadata": {},
     "output_type": "execute_result"
    }
   ],
   "source": [
    "missings = list(missing_values[missing_values[\"Percent_Missing\"] > 0.25].index)\n",
    "feat_info[feat_info[\"attribute\"].isin(missings)]"
   ]
  },
  {
   "cell_type": "code",
   "execution_count": 21,
   "metadata": {},
   "outputs": [
    {
     "data": {
      "text/plain": [
       "(891221, 79)"
      ]
     },
     "execution_count": 21,
     "metadata": {},
     "output_type": "execute_result"
    }
   ],
   "source": [
    "# Remove the outlier columns from the dataset. (You'll perform other data\n",
    "# engineering tasks such as re-encoding and imputation later.)\n",
    "azdias.drop([list(missing_values[missing_values[\"Percent_Missing\"] > 0.25].index)][0], axis=1, inplace=True)\n",
    "azdias.shape\n"
   ]
  },
  {
   "cell_type": "code",
   "execution_count": 22,
   "metadata": {},
   "outputs": [
    {
     "data": {
      "text/html": [
       "<div>\n",
       "<style scoped>\n",
       "    .dataframe tbody tr th:only-of-type {\n",
       "        vertical-align: middle;\n",
       "    }\n",
       "\n",
       "    .dataframe tbody tr th {\n",
       "        vertical-align: top;\n",
       "    }\n",
       "\n",
       "    .dataframe thead th {\n",
       "        text-align: right;\n",
       "    }\n",
       "</style>\n",
       "<table border=\"1\" class=\"dataframe\">\n",
       "  <thead>\n",
       "    <tr style=\"text-align: right;\">\n",
       "      <th></th>\n",
       "      <th>ALTERSKATEGORIE_GROB</th>\n",
       "      <th>ANREDE_KZ</th>\n",
       "      <th>CJT_GESAMTTYP</th>\n",
       "      <th>FINANZ_MINIMALIST</th>\n",
       "      <th>FINANZ_SPARER</th>\n",
       "      <th>FINANZ_VORSORGER</th>\n",
       "      <th>FINANZ_ANLEGER</th>\n",
       "      <th>FINANZ_UNAUFFAELLIGER</th>\n",
       "      <th>FINANZ_HAUSBAUER</th>\n",
       "      <th>FINANZTYP</th>\n",
       "      <th>...</th>\n",
       "      <th>PLZ8_ANTG1</th>\n",
       "      <th>PLZ8_ANTG2</th>\n",
       "      <th>PLZ8_ANTG3</th>\n",
       "      <th>PLZ8_ANTG4</th>\n",
       "      <th>PLZ8_BAUMAX</th>\n",
       "      <th>PLZ8_HHZ</th>\n",
       "      <th>PLZ8_GBZ</th>\n",
       "      <th>ARBEIT</th>\n",
       "      <th>ORTSGR_KLS9</th>\n",
       "      <th>RELAT_AB</th>\n",
       "    </tr>\n",
       "  </thead>\n",
       "  <tbody>\n",
       "    <tr>\n",
       "      <th>0</th>\n",
       "      <td>2.0</td>\n",
       "      <td>1</td>\n",
       "      <td>2.0</td>\n",
       "      <td>3</td>\n",
       "      <td>4</td>\n",
       "      <td>3</td>\n",
       "      <td>5</td>\n",
       "      <td>5</td>\n",
       "      <td>3</td>\n",
       "      <td>4</td>\n",
       "      <td>...</td>\n",
       "      <td>NaN</td>\n",
       "      <td>NaN</td>\n",
       "      <td>NaN</td>\n",
       "      <td>NaN</td>\n",
       "      <td>NaN</td>\n",
       "      <td>NaN</td>\n",
       "      <td>NaN</td>\n",
       "      <td>NaN</td>\n",
       "      <td>NaN</td>\n",
       "      <td>NaN</td>\n",
       "    </tr>\n",
       "    <tr>\n",
       "      <th>1</th>\n",
       "      <td>1.0</td>\n",
       "      <td>2</td>\n",
       "      <td>5.0</td>\n",
       "      <td>1</td>\n",
       "      <td>5</td>\n",
       "      <td>2</td>\n",
       "      <td>5</td>\n",
       "      <td>4</td>\n",
       "      <td>5</td>\n",
       "      <td>1</td>\n",
       "      <td>...</td>\n",
       "      <td>2.0</td>\n",
       "      <td>3.0</td>\n",
       "      <td>2.0</td>\n",
       "      <td>1.0</td>\n",
       "      <td>1.0</td>\n",
       "      <td>5.0</td>\n",
       "      <td>4.0</td>\n",
       "      <td>3.0</td>\n",
       "      <td>5.0</td>\n",
       "      <td>4.0</td>\n",
       "    </tr>\n",
       "    <tr>\n",
       "      <th>2</th>\n",
       "      <td>3.0</td>\n",
       "      <td>2</td>\n",
       "      <td>3.0</td>\n",
       "      <td>1</td>\n",
       "      <td>4</td>\n",
       "      <td>1</td>\n",
       "      <td>2</td>\n",
       "      <td>3</td>\n",
       "      <td>5</td>\n",
       "      <td>1</td>\n",
       "      <td>...</td>\n",
       "      <td>3.0</td>\n",
       "      <td>3.0</td>\n",
       "      <td>1.0</td>\n",
       "      <td>0.0</td>\n",
       "      <td>1.0</td>\n",
       "      <td>4.0</td>\n",
       "      <td>4.0</td>\n",
       "      <td>3.0</td>\n",
       "      <td>5.0</td>\n",
       "      <td>2.0</td>\n",
       "    </tr>\n",
       "  </tbody>\n",
       "</table>\n",
       "<p>3 rows × 79 columns</p>\n",
       "</div>"
      ],
      "text/plain": [
       "   ALTERSKATEGORIE_GROB  ANREDE_KZ  CJT_GESAMTTYP  FINANZ_MINIMALIST  \\\n",
       "0                   2.0          1            2.0                  3   \n",
       "1                   1.0          2            5.0                  1   \n",
       "2                   3.0          2            3.0                  1   \n",
       "\n",
       "   FINANZ_SPARER  FINANZ_VORSORGER  FINANZ_ANLEGER  FINANZ_UNAUFFAELLIGER  \\\n",
       "0              4                 3               5                      5   \n",
       "1              5                 2               5                      4   \n",
       "2              4                 1               2                      3   \n",
       "\n",
       "   FINANZ_HAUSBAUER  FINANZTYP    ...     PLZ8_ANTG1  PLZ8_ANTG2  PLZ8_ANTG3  \\\n",
       "0                 3          4    ...            NaN         NaN         NaN   \n",
       "1                 5          1    ...            2.0         3.0         2.0   \n",
       "2                 5          1    ...            3.0         3.0         1.0   \n",
       "\n",
       "   PLZ8_ANTG4  PLZ8_BAUMAX  PLZ8_HHZ  PLZ8_GBZ  ARBEIT  ORTSGR_KLS9  RELAT_AB  \n",
       "0         NaN          NaN       NaN       NaN     NaN          NaN       NaN  \n",
       "1         1.0          1.0       5.0       4.0     3.0          5.0       4.0  \n",
       "2         0.0          1.0       4.0       4.0     3.0          5.0       2.0  \n",
       "\n",
       "[3 rows x 79 columns]"
      ]
     },
     "execution_count": 22,
     "metadata": {},
     "output_type": "execute_result"
    }
   ],
   "source": [
    "azdias.head(3)"
   ]
  },
  {
   "cell_type": "code",
   "execution_count": 23,
   "metadata": {},
   "outputs": [],
   "source": [
    "# Drop the same categories from feature information\n",
    "feat_info = feat_info[~feat_info[\"attribute\"].isin([list(missing_values[missing_values[\"Percent_Missing\"] > 0.25].index)][0])]\n"
   ]
  },
  {
   "cell_type": "markdown",
   "metadata": {},
   "source": [
    "#### Discussion 1.1.2: Assess Missing Data in Each Column\n",
    "I removed all columns that had more than 25% missing data. The missing values range from 34.8% to 99.8% missing values. From the histogram this seemed like a natural break point. There were six columns removed: `AGER_TYP`, `GEBURTSJAHR`, `TITEL_KZ`, `ALTER_HH`, `KK_KUNDENTYP`, and `KBA05_BAUMAX`. Half of the types are categorical, but the others are not a uniform type. Thus it may be coincidence that three happen to be categorical. The same can be said for information level: half are person but the other three don't have a pattern. In addition, there is not a clear pattern with regards to what kind of missing data there is (natural NaNs vs encoded NaNs).\n"
   ]
  },
  {
   "cell_type": "markdown",
   "metadata": {},
   "source": [
    "#### Step 1.1.3: Assess Missing Data in Each Row\n",
    "\n",
    "Now, you'll perform a similar assessment for the rows of the dataset. How much data is missing in each row? As with the columns, you should see some groups of points that have a very different numbers of missing values. Divide the data into two subsets: one for data points that are above some threshold for missing values, and a second subset for points below that threshold.\n",
    "\n",
    "In order to know what to do with the outlier rows, we should see if the distribution of data values on columns that are not missing data (or are missing very little data) are similar or different between the two groups. Select at least five of these columns and compare the distribution of values.\n",
    "- You can use seaborn's [`countplot()`](https://seaborn.pydata.org/generated/seaborn.countplot.html) function to create a bar chart of code frequencies and matplotlib's [`subplot()`](https://matplotlib.org/api/_as_gen/matplotlib.pyplot.subplot.html) function to put bar charts for the two subplots side by side.\n",
    "- To reduce repeated code, you might want to write a function that can perform this comparison, taking as one of its arguments a column to be compared.\n",
    "\n",
    "Depending on what you observe in your comparison, this will have implications on how you approach your conclusions later in the analysis. If the distributions of non-missing features look similar between the data with many missing values and the data with few or no missing values, then we could argue that simply dropping those points from the analysis won't present a major issue. On the other hand, if the data with many missing values looks very different from the data with few or no missing values, then we should make a note on those data as special. We'll revisit these data later on. **Either way, you should continue your analysis for now using just the subset of the data with few or no missing values.**"
   ]
  },
  {
   "cell_type": "code",
   "execution_count": 24,
   "metadata": {},
   "outputs": [
    {
     "name": "stdout",
     "output_type": "stream",
     "text": [
      "5035304 missing values left\n"
     ]
    },
    {
     "data": {
      "text/plain": [
       "<matplotlib.axes._subplots.AxesSubplot at 0x7fc0e9791a58>"
      ]
     },
     "execution_count": 24,
     "metadata": {},
     "output_type": "execute_result"
    },
    {
     "data": {
      "image/png": "[encoded data removed]",
      "text/plain": [
       "<matplotlib.figure.Figure at 0x7fc0e8f4aac8>"
      ]
     },
     "metadata": {
      "needs_background": "light"
     },
     "output_type": "display_data"
    }
   ],
   "source": [
    "# How much data is missing in each row of the dataset?\n",
    "print(\"{} missing values left\".format(azdias.isnull().sum().sum()))\n",
    "num_nans = azdias.isnull().sum(axis=1)\n",
    "num_nans.hist(bins=25)"
   ]
  },
  {
   "cell_type": "code",
   "execution_count": 25,
   "metadata": {},
   "outputs": [],
   "source": [
    "# Write code to divide the data into two subsets based on the number of missing\n",
    "# values in each row.\n",
    "def split_on_missing(df, miss=10):\n",
    "    num_nans = df.isnull().sum(axis=1)\n",
    "    cats = list(num_nans[num_nans <= miss].index)\n",
    "    return df.iloc[cats], df.drop(cats)\n",
    "\n",
    "# We'll split on p = 15% (11 missing values)\n",
    "few, many = split_on_missing(azdias, 3)"
   ]
  },
  {
   "cell_type": "code",
   "execution_count": 26,
   "metadata": {},
   "outputs": [
    {
     "data": {
      "text/plain": [
       "(684502, 79)"
      ]
     },
     "execution_count": 26,
     "metadata": {},
     "output_type": "execute_result"
    }
   ],
   "source": [
    "few.shape"
   ]
  },
  {
   "cell_type": "code",
   "execution_count": 27,
   "metadata": {},
   "outputs": [
    {
     "data": {
      "text/plain": [
       "(206719, 79)"
      ]
     },
     "execution_count": 27,
     "metadata": {},
     "output_type": "execute_result"
    }
   ],
   "source": [
    "many.shape"
   ]
  },
  {
   "cell_type": "code",
   "execution_count": 28,
   "metadata": {},
   "outputs": [
    {
     "data": {
      "text/html": [
       "<div>\n",
       "<style scoped>\n",
       "    .dataframe tbody tr th:only-of-type {\n",
       "        vertical-align: middle;\n",
       "    }\n",
       "\n",
       "    .dataframe tbody tr th {\n",
       "        vertical-align: top;\n",
       "    }\n",
       "\n",
       "    .dataframe thead th {\n",
       "        text-align: right;\n",
       "    }\n",
       "</style>\n",
       "<table border=\"1\" class=\"dataframe\">\n",
       "  <thead>\n",
       "    <tr style=\"text-align: right;\">\n",
       "      <th></th>\n",
       "      <th>ALTERSKATEGORIE_GROB</th>\n",
       "      <th>ANREDE_KZ</th>\n",
       "      <th>CJT_GESAMTTYP</th>\n",
       "      <th>FINANZ_MINIMALIST</th>\n",
       "      <th>FINANZ_SPARER</th>\n",
       "      <th>FINANZ_VORSORGER</th>\n",
       "      <th>FINANZ_ANLEGER</th>\n",
       "      <th>FINANZ_UNAUFFAELLIGER</th>\n",
       "      <th>FINANZ_HAUSBAUER</th>\n",
       "      <th>FINANZTYP</th>\n",
       "      <th>...</th>\n",
       "      <th>PLZ8_ANTG1</th>\n",
       "      <th>PLZ8_ANTG2</th>\n",
       "      <th>PLZ8_ANTG3</th>\n",
       "      <th>PLZ8_ANTG4</th>\n",
       "      <th>PLZ8_BAUMAX</th>\n",
       "      <th>PLZ8_HHZ</th>\n",
       "      <th>PLZ8_GBZ</th>\n",
       "      <th>ARBEIT</th>\n",
       "      <th>ORTSGR_KLS9</th>\n",
       "      <th>RELAT_AB</th>\n",
       "    </tr>\n",
       "  </thead>\n",
       "  <tbody>\n",
       "    <tr>\n",
       "      <th>0</th>\n",
       "      <td>2.0</td>\n",
       "      <td>1</td>\n",
       "      <td>2.0</td>\n",
       "      <td>3</td>\n",
       "      <td>4</td>\n",
       "      <td>3</td>\n",
       "      <td>5</td>\n",
       "      <td>5</td>\n",
       "      <td>3</td>\n",
       "      <td>4</td>\n",
       "      <td>...</td>\n",
       "      <td>NaN</td>\n",
       "      <td>NaN</td>\n",
       "      <td>NaN</td>\n",
       "      <td>NaN</td>\n",
       "      <td>NaN</td>\n",
       "      <td>NaN</td>\n",
       "      <td>NaN</td>\n",
       "      <td>NaN</td>\n",
       "      <td>NaN</td>\n",
       "      <td>NaN</td>\n",
       "    </tr>\n",
       "    <tr>\n",
       "      <th>3</th>\n",
       "      <td>4.0</td>\n",
       "      <td>2</td>\n",
       "      <td>2.0</td>\n",
       "      <td>4</td>\n",
       "      <td>2</td>\n",
       "      <td>5</td>\n",
       "      <td>2</td>\n",
       "      <td>1</td>\n",
       "      <td>2</td>\n",
       "      <td>6</td>\n",
       "      <td>...</td>\n",
       "      <td>2.0</td>\n",
       "      <td>2.0</td>\n",
       "      <td>2.0</td>\n",
       "      <td>0.0</td>\n",
       "      <td>1.0</td>\n",
       "      <td>3.0</td>\n",
       "      <td>4.0</td>\n",
       "      <td>2.0</td>\n",
       "      <td>3.0</td>\n",
       "      <td>3.0</td>\n",
       "    </tr>\n",
       "    <tr>\n",
       "      <th>11</th>\n",
       "      <td>2.0</td>\n",
       "      <td>1</td>\n",
       "      <td>6.0</td>\n",
       "      <td>3</td>\n",
       "      <td>4</td>\n",
       "      <td>3</td>\n",
       "      <td>5</td>\n",
       "      <td>5</td>\n",
       "      <td>3</td>\n",
       "      <td>4</td>\n",
       "      <td>...</td>\n",
       "      <td>NaN</td>\n",
       "      <td>NaN</td>\n",
       "      <td>NaN</td>\n",
       "      <td>NaN</td>\n",
       "      <td>NaN</td>\n",
       "      <td>NaN</td>\n",
       "      <td>NaN</td>\n",
       "      <td>NaN</td>\n",
       "      <td>NaN</td>\n",
       "      <td>NaN</td>\n",
       "    </tr>\n",
       "  </tbody>\n",
       "</table>\n",
       "<p>3 rows × 79 columns</p>\n",
       "</div>"
      ],
      "text/plain": [
       "    ALTERSKATEGORIE_GROB  ANREDE_KZ  CJT_GESAMTTYP  FINANZ_MINIMALIST  \\\n",
       "0                    2.0          1            2.0                  3   \n",
       "3                    4.0          2            2.0                  4   \n",
       "11                   2.0          1            6.0                  3   \n",
       "\n",
       "    FINANZ_SPARER  FINANZ_VORSORGER  FINANZ_ANLEGER  FINANZ_UNAUFFAELLIGER  \\\n",
       "0               4                 3               5                      5   \n",
       "3               2                 5               2                      1   \n",
       "11              4                 3               5                      5   \n",
       "\n",
       "    FINANZ_HAUSBAUER  FINANZTYP    ...     PLZ8_ANTG1  PLZ8_ANTG2  PLZ8_ANTG3  \\\n",
       "0                  3          4    ...            NaN         NaN         NaN   \n",
       "3                  2          6    ...            2.0         2.0         2.0   \n",
       "11                 3          4    ...            NaN         NaN         NaN   \n",
       "\n",
       "    PLZ8_ANTG4  PLZ8_BAUMAX  PLZ8_HHZ  PLZ8_GBZ  ARBEIT  ORTSGR_KLS9  RELAT_AB  \n",
       "0          NaN          NaN       NaN       NaN     NaN          NaN       NaN  \n",
       "3          0.0          1.0       3.0       4.0     2.0          3.0       3.0  \n",
       "11         NaN          NaN       NaN       NaN     NaN          NaN       NaN  \n",
       "\n",
       "[3 rows x 79 columns]"
      ]
     },
     "execution_count": 28,
     "metadata": {},
     "output_type": "execute_result"
    }
   ],
   "source": [
    "many.head(3)"
   ]
  },
  {
   "cell_type": "code",
   "execution_count": 29,
   "metadata": {},
   "outputs": [
    {
     "data": {
      "image/png": "[encoded data removed]",
      "text/plain": [
       "<matplotlib.figure.Figure at 0x7fc0e97c5a58>"
      ]
     },
     "metadata": {
      "needs_background": "light"
     },
     "output_type": "display_data"
    }
   ],
   "source": [
    "# Compare the distribution of values for at least five columns where there are\n",
    "# no or few missing values, between the two subsets.\n",
    "plot_cols = list(few)[:10] # Plot the first ten columns\n",
    "f, axs = plt.subplots(2, 10, sharey=True, figsize=(25,5))\n",
    "for i, e in enumerate(plot_cols):\n",
    "    sns.countplot(few[e], ax=axs[0, i])\n",
    "    sns.countplot(many[e], ax=axs[1, i])\n",
    "plt.tight_layout(pad=0.4, w_pad=0.5, h_pad=1.0)"
   ]
  },
  {
   "cell_type": "code",
   "execution_count": 30,
   "metadata": {},
   "outputs": [],
   "source": [
    "# We don't want to use rows that have too much empty data, so I'll drop rows that have more than 15 empty values\n",
    "azdias, _ = split_on_missing(azdias, 15)"
   ]
  },
  {
   "cell_type": "markdown",
   "metadata": {},
   "source": [
    "#### Discussion 1.1.3: Assess Missing Data in Each Row\n",
    "\n",
    "I split the data based on those with less than or equal to three missing values. Then I plotted the first ten columns. The top row is the data with \"few\" missing values and the bottom row is that with \"many\".\n",
    "\n",
    "In some of the columns examined, the data looks qualitatively different; often one category spikes in places where it doesn't in the other split. An example is `FINANZ_ANLEGER`. Some, however, does look qualitatively similar, having the same distribution, such as `ANREDE_KZ`.\n"
   ]
  },
  {
   "cell_type": "markdown",
   "metadata": {},
   "source": [
    "### Step 1.2: Select and Re-Encode Features\n",
    "\n",
    "Checking for missing data isn't the only way in which you can prepare a dataset for analysis. Since the unsupervised learning techniques to be used will only work on data that is encoded numerically, you need to make a few encoding changes or additional assumptions to be able to make progress. In addition, while almost all of the values in the dataset are encoded using numbers, not all of them represent numeric values. Check the third column of the feature summary (`feat_info`) for a summary of types of measurement.\n",
    "- For numeric and interval data, these features can be kept without changes.\n",
    "- Most of the variables in the dataset are ordinal in nature. While ordinal values may technically be non-linear in spacing, make the simplifying assumption that the ordinal variables can be treated as being interval in nature (that is, kept without any changes).\n",
    "- Special handling may be necessary for the remaining two variable types: categorical, and 'mixed'.\n",
    "\n",
    "In the first two parts of this sub-step, you will perform an investigation of the categorical and mixed-type features and make a decision on each of them, whether you will keep, drop, or re-encode each. Then, in the last part, you will create a new data frame with only the selected and engineered columns.\n",
    "\n",
    "Data wrangling is often the trickiest part of the data analysis process, and there's a lot of it to be done here. But stick with it: once you're done with this step, you'll be ready to get to the machine learning parts of the project!"
   ]
  },
  {
   "cell_type": "code",
   "execution_count": 31,
   "metadata": {},
   "outputs": [
    {
     "data": {
      "text/plain": [
       "ordinal        49\n",
       "categorical    18\n",
       "numeric         6\n",
       "mixed           6\n",
       "Name: type, dtype: int64"
      ]
     },
     "execution_count": 31,
     "metadata": {},
     "output_type": "execute_result"
    }
   ],
   "source": [
    "# How many features are there of each data type?\n",
    "feat_info[\"type\"].value_counts()\n"
   ]
  },
  {
   "cell_type": "markdown",
   "metadata": {},
   "source": [
    "#### Step 1.2.1: Re-Encode Categorical Features\n",
    "\n",
    "For categorical data, you would ordinarily need to encode the levels as dummy variables. Depending on the number of categories, perform one of the following:\n",
    "- For binary (two-level) categoricals that take numeric values, you can keep them without needing to do anything.\n",
    "- There is one binary variable that takes on non-numeric values. For this one, you need to re-encode the values as numbers or create a dummy variable.\n",
    "- For multi-level categoricals (three or more values), you can choose to encode the values using multiple dummy variables (e.g. via [OneHotEncoder](http://scikit-learn.org/stable/modules/generated/sklearn.preprocessing.OneHotEncoder.html)), or (to keep things straightforward) just drop them from the analysis. As always, document your choices in the Discussion section."
   ]
  },
  {
   "cell_type": "code",
   "execution_count": 32,
   "metadata": {},
   "outputs": [],
   "source": [
    "# Assess categorical variables: which are binary, which are multi-level, and\n",
    "# which one needs to be re-encoded?\n",
    "cat_data = azdias[feat_info[feat_info[\"type\"] == \"categorical\"][\"attribute\"].values]\n"
   ]
  },
  {
   "cell_type": "code",
   "execution_count": 33,
   "metadata": {},
   "outputs": [
    {
     "name": "stdout",
     "output_type": "stream",
     "text": [
      "ANREDE_KZ --> 2 categories: [2, 1]\n",
      "CJT_GESAMTTYP --> 6 categories: [5.0, 3.0, 2.0, 4.0, 1.0, 6.0, nan]\n",
      "FINANZTYP --> 6 categories: [1, 6, 5, 2, 4, 3]\n",
      "GFK_URLAUBERTYP --> 12 categories: [10.0, 1.0, 5.0, 12.0, 9.0, 3.0, 8.0, 11.0, 4.0, 7.0, 2.0, 6.0, nan]\n",
      "GREEN_AVANTGARDE --> 2 categories: [0, 1]\n",
      "LP_FAMILIE_FEIN --> 11 categories: [5.0, 1.0, nan, 10.0, 2.0, 7.0, 11.0, 8.0, 4.0, 6.0, 9.0, 3.0]\n",
      "LP_FAMILIE_GROB --> 5 categories: [3.0, 1.0, nan, 5.0, 2.0, 4.0]\n",
      "LP_STATUS_FEIN --> 10 categories: [2.0, 3.0, 9.0, 4.0, 1.0, 10.0, 5.0, 8.0, 6.0, 7.0, nan]\n",
      "LP_STATUS_GROB --> 5 categories: [1.0, 2.0, 4.0, 5.0, 3.0, nan]\n",
      "NATIONALITAET_KZ --> 3 categories: [1.0, 3.0, 2.0, nan]\n",
      "SHOPPER_TYP --> 4 categories: [3.0, 2.0, 1.0, 0.0, nan]\n",
      "SOHO_KZ --> 2 categories: [1.0, 0.0]\n",
      "VERS_TYP --> 2 categories: [2.0, 1.0, nan]\n",
      "ZABEOTYP --> 6 categories: [5, 3, 4, 1, 6, 2]\n",
      "GEBAEUDETYP --> 7 categories: [8.0, 1.0, 3.0, 2.0, 6.0, 4.0, 5.0]\n",
      "OST_WEST_KZ --> 2 categories: ['W', 'O']\n",
      "CAMEO_DEUG_2015 --> 9 categories: ['8', '4', '2', '6', '1', '9', '5', '7', '3', nan]\n",
      "CAMEO_DEU_2015 --> 44 categories: ['8A', '4C', '2A', '6B', '8C', '4A', '2D', '1A', '1E', '9D', '5C', '8B', '7A', '5D', '9E', '9B', '1B', '3D', nan, '4E', '4B', '3C', '5A', '7B', '9A', '6D', '6E', '2C', '7C', '9C', '7D', '5E', '1D', '8D', '6C', '6A', '5B', '4D', '3A', '2B', '7E', '3B', '6F', '5F', '1C']\n"
     ]
    }
   ],
   "source": [
    "binary = []\n",
    "multilevel = []\n",
    "drop = []\n",
    "\n",
    "drop_num = 10 # Drop those that have more than 10 categories\n",
    "for c in list(cat_data):\n",
    "    nuniq = cat_data[c].nunique()\n",
    "    if nuniq == 2:\n",
    "        binary.append(c)\n",
    "    elif nuniq > drop_num:\n",
    "        drop.append(c)\n",
    "    else:\n",
    "        multilevel.append(c)\n",
    "    print(\"{} --> {} categories: {}\".format(c, nuniq, list(cat_data[c].unique())))\n",
    "    "
   ]
  },
  {
   "cell_type": "code",
   "execution_count": 34,
   "metadata": {},
   "outputs": [
    {
     "data": {
      "text/html": [
       "<div>\n",
       "<style scoped>\n",
       "    .dataframe tbody tr th:only-of-type {\n",
       "        vertical-align: middle;\n",
       "    }\n",
       "\n",
       "    .dataframe tbody tr th {\n",
       "        vertical-align: top;\n",
       "    }\n",
       "\n",
       "    .dataframe thead th {\n",
       "        text-align: right;\n",
       "    }\n",
       "</style>\n",
       "<table border=\"1\" class=\"dataframe\">\n",
       "  <thead>\n",
       "    <tr style=\"text-align: right;\">\n",
       "      <th></th>\n",
       "      <th>ANREDE_KZ</th>\n",
       "      <th>GREEN_AVANTGARDE</th>\n",
       "      <th>SOHO_KZ</th>\n",
       "      <th>VERS_TYP</th>\n",
       "      <th>OST_WEST_KZ_O</th>\n",
       "      <th>OST_WEST_KZ_W</th>\n",
       "      <th>CJT_GESAMTTYP_1</th>\n",
       "      <th>CJT_GESAMTTYP_2</th>\n",
       "      <th>CJT_GESAMTTYP_3</th>\n",
       "      <th>CJT_GESAMTTYP_4</th>\n",
       "      <th>...</th>\n",
       "      <th>CAMEO_DEUG_2015_1</th>\n",
       "      <th>CAMEO_DEUG_2015_2</th>\n",
       "      <th>CAMEO_DEUG_2015_3</th>\n",
       "      <th>CAMEO_DEUG_2015_4</th>\n",
       "      <th>CAMEO_DEUG_2015_5</th>\n",
       "      <th>CAMEO_DEUG_2015_6</th>\n",
       "      <th>CAMEO_DEUG_2015_7</th>\n",
       "      <th>CAMEO_DEUG_2015_8</th>\n",
       "      <th>CAMEO_DEUG_2015_9</th>\n",
       "      <th>CAMEO_DEUG_2015_nan</th>\n",
       "    </tr>\n",
       "  </thead>\n",
       "  <tbody>\n",
       "    <tr>\n",
       "      <th>1</th>\n",
       "      <td>2</td>\n",
       "      <td>0</td>\n",
       "      <td>1.0</td>\n",
       "      <td>2.0</td>\n",
       "      <td>0</td>\n",
       "      <td>1</td>\n",
       "      <td>0</td>\n",
       "      <td>0</td>\n",
       "      <td>0</td>\n",
       "      <td>0</td>\n",
       "      <td>...</td>\n",
       "      <td>0</td>\n",
       "      <td>0</td>\n",
       "      <td>0</td>\n",
       "      <td>0</td>\n",
       "      <td>0</td>\n",
       "      <td>0</td>\n",
       "      <td>0</td>\n",
       "      <td>1</td>\n",
       "      <td>0</td>\n",
       "      <td>0</td>\n",
       "    </tr>\n",
       "    <tr>\n",
       "      <th>2</th>\n",
       "      <td>2</td>\n",
       "      <td>1</td>\n",
       "      <td>0.0</td>\n",
       "      <td>1.0</td>\n",
       "      <td>0</td>\n",
       "      <td>1</td>\n",
       "      <td>0</td>\n",
       "      <td>0</td>\n",
       "      <td>1</td>\n",
       "      <td>0</td>\n",
       "      <td>...</td>\n",
       "      <td>0</td>\n",
       "      <td>0</td>\n",
       "      <td>0</td>\n",
       "      <td>1</td>\n",
       "      <td>0</td>\n",
       "      <td>0</td>\n",
       "      <td>0</td>\n",
       "      <td>0</td>\n",
       "      <td>0</td>\n",
       "      <td>0</td>\n",
       "    </tr>\n",
       "    <tr>\n",
       "      <th>3</th>\n",
       "      <td>2</td>\n",
       "      <td>0</td>\n",
       "      <td>0.0</td>\n",
       "      <td>1.0</td>\n",
       "      <td>0</td>\n",
       "      <td>1</td>\n",
       "      <td>0</td>\n",
       "      <td>1</td>\n",
       "      <td>0</td>\n",
       "      <td>0</td>\n",
       "      <td>...</td>\n",
       "      <td>0</td>\n",
       "      <td>1</td>\n",
       "      <td>0</td>\n",
       "      <td>0</td>\n",
       "      <td>0</td>\n",
       "      <td>0</td>\n",
       "      <td>0</td>\n",
       "      <td>0</td>\n",
       "      <td>0</td>\n",
       "      <td>0</td>\n",
       "    </tr>\n",
       "    <tr>\n",
       "      <th>4</th>\n",
       "      <td>1</td>\n",
       "      <td>0</td>\n",
       "      <td>0.0</td>\n",
       "      <td>2.0</td>\n",
       "      <td>0</td>\n",
       "      <td>1</td>\n",
       "      <td>0</td>\n",
       "      <td>0</td>\n",
       "      <td>0</td>\n",
       "      <td>0</td>\n",
       "      <td>...</td>\n",
       "      <td>0</td>\n",
       "      <td>0</td>\n",
       "      <td>0</td>\n",
       "      <td>0</td>\n",
       "      <td>0</td>\n",
       "      <td>1</td>\n",
       "      <td>0</td>\n",
       "      <td>0</td>\n",
       "      <td>0</td>\n",
       "      <td>0</td>\n",
       "    </tr>\n",
       "    <tr>\n",
       "      <th>5</th>\n",
       "      <td>2</td>\n",
       "      <td>0</td>\n",
       "      <td>0.0</td>\n",
       "      <td>2.0</td>\n",
       "      <td>0</td>\n",
       "      <td>1</td>\n",
       "      <td>0</td>\n",
       "      <td>1</td>\n",
       "      <td>0</td>\n",
       "      <td>0</td>\n",
       "      <td>...</td>\n",
       "      <td>0</td>\n",
       "      <td>0</td>\n",
       "      <td>0</td>\n",
       "      <td>0</td>\n",
       "      <td>0</td>\n",
       "      <td>0</td>\n",
       "      <td>0</td>\n",
       "      <td>1</td>\n",
       "      <td>0</td>\n",
       "      <td>0</td>\n",
       "    </tr>\n",
       "  </tbody>\n",
       "</table>\n",
       "<p>5 rows × 76 columns</p>\n",
       "</div>"
      ],
      "text/plain": [
       "   ANREDE_KZ  GREEN_AVANTGARDE  SOHO_KZ  VERS_TYP  OST_WEST_KZ_O  \\\n",
       "1          2                 0      1.0       2.0              0   \n",
       "2          2                 1      0.0       1.0              0   \n",
       "3          2                 0      0.0       1.0              0   \n",
       "4          1                 0      0.0       2.0              0   \n",
       "5          2                 0      0.0       2.0              0   \n",
       "\n",
       "   OST_WEST_KZ_W  CJT_GESAMTTYP_1  CJT_GESAMTTYP_2  CJT_GESAMTTYP_3  \\\n",
       "1              1                0                0                0   \n",
       "2              1                0                0                1   \n",
       "3              1                0                1                0   \n",
       "4              1                0                0                0   \n",
       "5              1                0                1                0   \n",
       "\n",
       "   CJT_GESAMTTYP_4         ...           CAMEO_DEUG_2015_1  CAMEO_DEUG_2015_2  \\\n",
       "1                0         ...                           0                  0   \n",
       "2                0         ...                           0                  0   \n",
       "3                0         ...                           0                  1   \n",
       "4                0         ...                           0                  0   \n",
       "5                0         ...                           0                  0   \n",
       "\n",
       "   CAMEO_DEUG_2015_3  CAMEO_DEUG_2015_4  CAMEO_DEUG_2015_5  CAMEO_DEUG_2015_6  \\\n",
       "1                  0                  0                  0                  0   \n",
       "2                  0                  1                  0                  0   \n",
       "3                  0                  0                  0                  0   \n",
       "4                  0                  0                  0                  1   \n",
       "5                  0                  0                  0                  0   \n",
       "\n",
       "   CAMEO_DEUG_2015_7  CAMEO_DEUG_2015_8  CAMEO_DEUG_2015_9  \\\n",
       "1                  0                  1                  0   \n",
       "2                  0                  0                  0   \n",
       "3                  0                  0                  0   \n",
       "4                  0                  0                  0   \n",
       "5                  0                  1                  0   \n",
       "\n",
       "   CAMEO_DEUG_2015_nan  \n",
       "1                    0  \n",
       "2                    0  \n",
       "3                    0  \n",
       "4                    0  \n",
       "5                    0  \n",
       "\n",
       "[5 rows x 76 columns]"
      ]
     },
     "execution_count": 34,
     "metadata": {},
     "output_type": "execute_result"
    }
   ],
   "source": [
    "# Re-encode categorical variable(s) to be kept in the analysis.\n",
    "# Create a new dataframe of categorical variables \n",
    "enc_df = pd.DataFrame()\n",
    "\n",
    "# Add binary variables as is\n",
    "enc_df[binary] = azdias[binary]\n",
    "\n",
    "# If type is not numeric, one hot encode it\n",
    "for col in list(enc_df):\n",
    "    if not np.issubdtype(enc_df[col].dtype, np.number):\n",
    "        enc_df = pd.concat([enc_df.drop(col, axis=1), pd.get_dummies(enc_df[col], prefix=col)], axis=1)\n",
    "\n",
    "# One hot encode multilevel variables we decided to keep\n",
    "MLDF = azdias[multilevel]\n",
    "for col in list(MLDF):\n",
    "    if MLDF[col].dtype == \"int\":\n",
    "        enc_df = pd.concat([enc_df, pd.get_dummies(MLDF[col], prefix=col, dummy_na=True)], axis=1)\n",
    "    else:\n",
    "        # This awkward workaround since pandas is not at the latest version; there's no 999 in the data frame\n",
    "        MM = MLDF[col].fillna(999)\n",
    "        enc_df = pd.concat([enc_df, pd.get_dummies(MM.astype(\"int\"), prefix=col)], axis=1)\n",
    "        enc_df.rename({col+\"_999\": col+\"_nan\"}, inplace=True, axis='columns')\n",
    "        \n",
    "\n",
    "enc_df.head()\n"
   ]
  },
  {
   "cell_type": "markdown",
   "metadata": {},
   "source": [
    "#### Discussion 1.2.1: Re-Encode Categorical Features\n",
    "There were 18 categorical data features. I kept all those with less than or equal to 10 categories. This was 15. For the one binary category that was not numerical, I used df.get_dummies() to simply one-hot encode it. Since Pandas is not at the latest version in this environment, I had to do some awkward workarounds regarding those features containing nans that needed one hot encoding. I had to fill them in with 999 (a number that does not appear in the data since I limited it to 10 categories) and then cast the data to integers (pandas version 0.24 lets you do this even if there are nans in the data). The 15 categorical variables became 77 fields."
   ]
  },
  {
   "cell_type": "markdown",
   "metadata": {},
   "source": [
    "#### Step 1.2.2: Engineer Mixed-Type Features\n",
    "\n",
    "There are a handful of features that are marked as \"mixed\" in the feature summary that require special treatment in order to be included in the analysis. There are two in particular that deserve attention; the handling of the rest are up to your own choices:\n",
    "- \"PRAEGENDE_JUGENDJAHRE\" combines information on three dimensions: generation by decade, movement (mainstream vs. avantgarde), and nation (east vs. west). While there aren't enough levels to disentangle east from west, you should create two new variables to capture the other two dimensions: an interval-type variable for decade, and a binary variable for movement.\n",
    "- \"CAMEO_INTL_2015\" combines information on two axes: wealth and life stage. Break up the two-digit codes by their 'tens'-place and 'ones'-place digits into two new ordinal variables (which, for the purposes of this project, is equivalent to just treating them as their raw numeric values).\n",
    "- If you decide to keep or engineer new features around the other mixed-type features, make sure you note your steps in the Discussion section.\n",
    "\n",
    "Be sure to check `Data_Dictionary.md` for the details needed to finish these tasks."
   ]
  },
  {
   "cell_type": "code",
   "execution_count": 35,
   "metadata": {},
   "outputs": [
    {
     "data": {
      "text/plain": [
       "<matplotlib.axes._subplots.AxesSubplot at 0x7fc0e87db978>"
      ]
     },
     "execution_count": 35,
     "metadata": {},
     "output_type": "execute_result"
    },
    {
     "data": {
      "image/png": "[encoded data removed]",
      "text/plain": [
       "<matplotlib.figure.Figure at 0x7fc0e87ce240>"
      ]
     },
     "metadata": {
      "needs_background": "light"
     },
     "output_type": "display_data"
    }
   ],
   "source": [
    "# Investigate \"PRAEGENDE_JUGENDJAHRE\" and engineer two new variables.\n",
    "azdias[\"PRAEGENDE_JUGENDJAHRE\"].hist()"
   ]
  },
  {
   "cell_type": "markdown",
   "metadata": {},
   "source": [
    "#### From Data_Dictionary.md:\n",
    "- -1: unknown\n",
    "-  0: unknown\n",
    "-  1: 40s - war years (Mainstream, E+W)\n",
    "-  2: 40s - reconstruction years (Avantgarde, E+W)\n",
    "-  3: 50s - economic miracle (Mainstream, E+W)\n",
    "-  4: 50s - milk bar / Individualisation (Avantgarde, E+W)\n",
    "-  5: 60s - economic miracle (Mainstream, E+W)\n",
    "-  6: 60s - generation 68 / student protestors (Avantgarde, W)\n",
    "-  7: 60s - opponents to the building of the Wall (Avantgarde, E)\n",
    "-  8: 70s - family orientation (Mainstream, E+W)\n",
    "-  9: 70s - peace movement (Avantgarde, E+W)\n",
    "- 10: 80s - Generation Golf (Mainstream, W)\n",
    "- 11: 80s - ecological awareness (Avantgarde, W)\n",
    "- 12: 80s - FDJ / communist party youth organisation (Mainstream, E)\n",
    "- 13: 80s - Swords into ploughshares (Avantgarde, E)\n",
    "- 14: 90s - digital media kids (Mainstream, E+W)\n",
    "- 15: 90s - ecological awareness (Avantgarde, E+W)"
   ]
  },
  {
   "cell_type": "code",
   "execution_count": 36,
   "metadata": {},
   "outputs": [],
   "source": [
    "def reverse_dict(d):\n",
    "    new_d = {}\n",
    "    for entry in d:\n",
    "        for integer in d[entry]:\n",
    "            new_d[integer] = entry\n",
    "    return new_d"
   ]
  },
  {
   "cell_type": "code",
   "execution_count": 37,
   "metadata": {},
   "outputs": [],
   "source": [
    "decades = {\"40s\": [1, 2], \"50s\": [3, 4], \"60s\": [5, 6, 7], \"70s\": [8, 9], \"80s\": [10, 11, 12, 13], \"90s\": [14, 15]}\n",
    "movements = {\"mainstream\": [1, 3, 5, 8, 10, 12, 14], \"avantgarde\": [2, 4, 6, 7, 9, 11, 13, 15]}\n",
    "\n",
    "decade_map = reverse_dict(decades)\n",
    "movement_map = reverse_dict(movements)\n"
   ]
  },
  {
   "cell_type": "code",
   "execution_count": 38,
   "metadata": {},
   "outputs": [],
   "source": [
    "decs = pd.get_dummies(azdias[\"PRAEGENDE_JUGENDJAHRE\"].replace(decade_map), dummy_na=True, prefix=\"decade\")\n",
    "movs = pd.get_dummies(azdias[\"PRAEGENDE_JUGENDJAHRE\"].replace(movement_map), dummy_na=True, prefix=\"movement\")\n",
    "enc_df = pd.concat([enc_df, decs, movs], axis=1)"
   ]
  },
  {
   "cell_type": "code",
   "execution_count": 39,
   "metadata": {},
   "outputs": [
    {
     "data": {
      "text/plain": [
       "<matplotlib.axes._subplots.AxesSubplot at 0x7fc0e875c7f0>"
      ]
     },
     "execution_count": 39,
     "metadata": {},
     "output_type": "execute_result"
    },
    {
     "data": {
      "image/png": "[encoded data removed]",
      "text/plain": [
       "<matplotlib.figure.Figure at 0x7fc0e89a14a8>"
      ]
     },
     "metadata": {
      "needs_background": "light"
     },
     "output_type": "display_data"
    }
   ],
   "source": [
    "# Investigate \"CAMEO_INTL_2015\" and engineer two new variables.\n",
    "azdias[\"CAMEO_INTL_2015\"].hist(bins=50)"
   ]
  },
  {
   "cell_type": "code",
   "execution_count": 40,
   "metadata": {},
   "outputs": [],
   "source": [
    "# Break up the two-digit codes by their 'tens'-place and 'ones'-place digits \n",
    "wealth = pd.get_dummies(azdias[\"CAMEO_INTL_2015\"].apply(lambda x: np.floor(float(x)/10)), dummy_na=True, prefix=\"weath\")\n",
    "life_stage = pd.get_dummies(azdias[\"CAMEO_INTL_2015\"].apply(lambda x: float(x)%10), dummy_na=True, prefix=\"life_stage\")\n",
    "enc_df = pd.concat([enc_df, wealth, life_stage], axis=1)\n"
   ]
  },
  {
   "cell_type": "code",
   "execution_count": 41,
   "metadata": {},
   "outputs": [
    {
     "data": {
      "text/plain": [
       "array(['LP_LEBENSPHASE_FEIN', 'LP_LEBENSPHASE_GROB',\n",
       "       'PRAEGENDE_JUGENDJAHRE', 'WOHNLAGE', 'CAMEO_INTL_2015',\n",
       "       'PLZ8_BAUMAX'], dtype=object)"
      ]
     },
     "execution_count": 41,
     "metadata": {},
     "output_type": "execute_result"
    }
   ],
   "source": [
    "# What are all the mixed types\n",
    "feat_info[feat_info[\"type\"] == \"mixed\"][\"attribute\"].values"
   ]
  },
  {
   "cell_type": "markdown",
   "metadata": {},
   "source": [
    "#### LP_LEBENSPHASE_GROB: Life stage, rough scale\n",
    "-  1: single low-income and average earners of younger age\n",
    "-  2: single low-income and average earners of higher age\n",
    "-  3: single high-income earners\n",
    "-  4: single low-income and average-earner couples\n",
    "-  5: single high-income earner couples\n",
    "-  6: single parents\n",
    "-  7: single low-income and average earner families\n",
    "-  8: high-income earner families\n",
    "-  9: average earners of younger age from multiperson households\n",
    "- 10: low-income and average earners of higher age from multiperson households\n",
    "- 11: high-income earners of younger age from multiperson households\n",
    "- 12: high-income earners of higher age from multiperson households"
   ]
  },
  {
   "cell_type": "code",
   "execution_count": 42,
   "metadata": {},
   "outputs": [],
   "source": [
    "age = {\"younger\": [1, 9, 11], \"higher\": [2, 10, 12], \"not_spce\": [3, 4, 5, 6, 7, 8]}\n",
    "income = {\"low/avg\": [1, 2, 4, 7, 9, 10], \"high\": [3, 5, 8, 11, 12], \"not_spec\": [6]}\n",
    "household = {\"single\": [1, 2, 3, 4, 5, 6, 7], \"multiperson\": [9, 10, 11, 12], \"not_spec\": [8]}\n",
    "families = {\"couple\": [4, 5], \"family\": [7], \"parents\": [6], \"not_spec\": [1, 2, 3, 8, 9, 10, 11, 12]}\n",
    "       \n",
    "age_map = reverse_dict(age)\n",
    "income_map = reverse_dict(income)\n",
    "household_map = reverse_dict(household)\n",
    "family_map = reverse_dict(families)"
   ]
  },
  {
   "cell_type": "code",
   "execution_count": 43,
   "metadata": {},
   "outputs": [],
   "source": [
    "lplg = azdias[\"LP_LEBENSPHASE_GROB\"]\n",
    "ages = pd.get_dummies(lplg.replace(age_map), dummy_na=True, prefix=\"age\")\n",
    "incs = pd.get_dummies(lplg.replace(income_map), dummy_na=True, prefix=\"income\")\n",
    "hous = pd.get_dummies(lplg.replace(household_map), dummy_na=True, prefix=\"household\")\n",
    "fams = pd.get_dummies(lplg.replace(family_map), dummy_na=True, prefix=\"family\")\n",
    "\n",
    "enc_df = pd.concat([enc_df, ages, incs, hous, fams], axis=1)"
   ]
  },
  {
   "cell_type": "code",
   "execution_count": 44,
   "metadata": {},
   "outputs": [],
   "source": [
    "# WOHNLAGE will be treated as a categorical variable\n",
    "WL = azdias[\"WOHNLAGE\"].fillna(999)\n",
    "enc_df = pd.concat([enc_df, pd.get_dummies(WL.astype(\"int\"), prefix=\"WOHNLAGE\")], axis=1)\n",
    "enc_df.rename({\"WOHNLAGE_999\": \"WOHNLAGE_nan\"}, inplace=True, axis='columns')"
   ]
  },
  {
   "cell_type": "code",
   "execution_count": 45,
   "metadata": {},
   "outputs": [],
   "source": [
    "# PLZ8_BAUMAX will be treated as a categorical variable\n",
    "PLZ = azdias[\"PLZ8_BAUMAX\"].fillna(999)\n",
    "enc_df = pd.concat([enc_df, pd.get_dummies(PLZ.astype(\"int\"), prefix=\"PLZ8_BAUMAX\")], axis=1)\n",
    "enc_df.rename({\"PLZ8_BAUMAX_999\": \"PLZ8_BAUMAX_nan\"}, inplace=True, axis='columns')"
   ]
  },
  {
   "cell_type": "markdown",
   "metadata": {},
   "source": [
    "#### Discussion 1.2.2: Engineer Mixed-Type Features\n",
    "- `LP_LEBENSPHASE_FEIN` has too many values that are not easily broken up, thus it was dropped.\n",
    "- `LP_LEBENSPHASE_GROB` was encoded by age, income, household, family.\n",
    "- `WOHNLAGE` can be treated as a categorical variable, by my judgement.\n",
    "- `PLZ8_BAUMAX` can also be treated as a categorical variable, by my judgement.\n",
    "\n",
    "    The variables that I kept were one-hot encoded and added to the encoded variables dataframe `enc_df`"
   ]
  },
  {
   "cell_type": "markdown",
   "metadata": {},
   "source": [
    "#### Step 1.2.3: Complete Feature Selection\n",
    "\n",
    "In order to finish this step up, you need to make sure that your data frame now only has the columns that you want to keep. To summarize, the dataframe should consist of the following:\n",
    "- All numeric, interval, and ordinal type columns from the original dataset.\n",
    "- Binary categorical features (all numerically-encoded).\n",
    "- Engineered features from other multi-level categorical features and mixed features.\n",
    "\n",
    "Make sure that for any new columns that you have engineered, that you've excluded the original columns from the final dataset. Otherwise, their values will interfere with the analysis later on the project. For example, you should not keep \"PRAEGENDE_JUGENDJAHRE\", since its values won't be useful for the algorithm: only the values derived from it in the engineered features you created should be retained. As a reminder, your data should only be from **the subset with few or no missing values**."
   ]
  },
  {
   "cell_type": "code",
   "execution_count": 46,
   "metadata": {},
   "outputs": [
    {
     "data": {
      "text/html": [
       "<div>\n",
       "<style scoped>\n",
       "    .dataframe tbody tr th:only-of-type {\n",
       "        vertical-align: middle;\n",
       "    }\n",
       "\n",
       "    .dataframe tbody tr th {\n",
       "        vertical-align: top;\n",
       "    }\n",
       "\n",
       "    .dataframe thead th {\n",
       "        text-align: right;\n",
       "    }\n",
       "</style>\n",
       "<table border=\"1\" class=\"dataframe\">\n",
       "  <thead>\n",
       "    <tr style=\"text-align: right;\">\n",
       "      <th></th>\n",
       "      <th>ANREDE_KZ</th>\n",
       "      <th>GREEN_AVANTGARDE</th>\n",
       "      <th>SOHO_KZ</th>\n",
       "      <th>VERS_TYP</th>\n",
       "      <th>OST_WEST_KZ_O</th>\n",
       "      <th>OST_WEST_KZ_W</th>\n",
       "      <th>CJT_GESAMTTYP_1</th>\n",
       "      <th>CJT_GESAMTTYP_2</th>\n",
       "      <th>CJT_GESAMTTYP_3</th>\n",
       "      <th>CJT_GESAMTTYP_4</th>\n",
       "      <th>...</th>\n",
       "      <th>REGIOTYP</th>\n",
       "      <th>PLZ8_ANTG1</th>\n",
       "      <th>PLZ8_ANTG2</th>\n",
       "      <th>PLZ8_ANTG3</th>\n",
       "      <th>PLZ8_ANTG4</th>\n",
       "      <th>PLZ8_HHZ</th>\n",
       "      <th>PLZ8_GBZ</th>\n",
       "      <th>ARBEIT</th>\n",
       "      <th>ORTSGR_KLS9</th>\n",
       "      <th>RELAT_AB</th>\n",
       "    </tr>\n",
       "  </thead>\n",
       "  <tbody>\n",
       "    <tr>\n",
       "      <th>1</th>\n",
       "      <td>2</td>\n",
       "      <td>0</td>\n",
       "      <td>1.0</td>\n",
       "      <td>2.0</td>\n",
       "      <td>0</td>\n",
       "      <td>1</td>\n",
       "      <td>0</td>\n",
       "      <td>0</td>\n",
       "      <td>0</td>\n",
       "      <td>0</td>\n",
       "      <td>...</td>\n",
       "      <td>3.0</td>\n",
       "      <td>2.0</td>\n",
       "      <td>3.0</td>\n",
       "      <td>2.0</td>\n",
       "      <td>1.0</td>\n",
       "      <td>5.0</td>\n",
       "      <td>4.0</td>\n",
       "      <td>3.0</td>\n",
       "      <td>5.0</td>\n",
       "      <td>4.0</td>\n",
       "    </tr>\n",
       "    <tr>\n",
       "      <th>2</th>\n",
       "      <td>2</td>\n",
       "      <td>1</td>\n",
       "      <td>0.0</td>\n",
       "      <td>1.0</td>\n",
       "      <td>0</td>\n",
       "      <td>1</td>\n",
       "      <td>0</td>\n",
       "      <td>0</td>\n",
       "      <td>1</td>\n",
       "      <td>0</td>\n",
       "      <td>...</td>\n",
       "      <td>2.0</td>\n",
       "      <td>3.0</td>\n",
       "      <td>3.0</td>\n",
       "      <td>1.0</td>\n",
       "      <td>0.0</td>\n",
       "      <td>4.0</td>\n",
       "      <td>4.0</td>\n",
       "      <td>3.0</td>\n",
       "      <td>5.0</td>\n",
       "      <td>2.0</td>\n",
       "    </tr>\n",
       "    <tr>\n",
       "      <th>3</th>\n",
       "      <td>2</td>\n",
       "      <td>0</td>\n",
       "      <td>0.0</td>\n",
       "      <td>1.0</td>\n",
       "      <td>0</td>\n",
       "      <td>1</td>\n",
       "      <td>0</td>\n",
       "      <td>1</td>\n",
       "      <td>0</td>\n",
       "      <td>0</td>\n",
       "      <td>...</td>\n",
       "      <td>NaN</td>\n",
       "      <td>2.0</td>\n",
       "      <td>2.0</td>\n",
       "      <td>2.0</td>\n",
       "      <td>0.0</td>\n",
       "      <td>3.0</td>\n",
       "      <td>4.0</td>\n",
       "      <td>2.0</td>\n",
       "      <td>3.0</td>\n",
       "      <td>3.0</td>\n",
       "    </tr>\n",
       "  </tbody>\n",
       "</table>\n",
       "<p>3 rows × 184 columns</p>\n",
       "</div>"
      ],
      "text/plain": [
       "   ANREDE_KZ  GREEN_AVANTGARDE  SOHO_KZ  VERS_TYP  OST_WEST_KZ_O  \\\n",
       "1          2                 0      1.0       2.0              0   \n",
       "2          2                 1      0.0       1.0              0   \n",
       "3          2                 0      0.0       1.0              0   \n",
       "\n",
       "   OST_WEST_KZ_W  CJT_GESAMTTYP_1  CJT_GESAMTTYP_2  CJT_GESAMTTYP_3  \\\n",
       "1              1                0                0                0   \n",
       "2              1                0                0                1   \n",
       "3              1                0                1                0   \n",
       "\n",
       "   CJT_GESAMTTYP_4    ...     REGIOTYP  PLZ8_ANTG1  PLZ8_ANTG2  PLZ8_ANTG3  \\\n",
       "1                0    ...          3.0         2.0         3.0         2.0   \n",
       "2                0    ...          2.0         3.0         3.0         1.0   \n",
       "3                0    ...          NaN         2.0         2.0         2.0   \n",
       "\n",
       "   PLZ8_ANTG4  PLZ8_HHZ  PLZ8_GBZ  ARBEIT  ORTSGR_KLS9  RELAT_AB  \n",
       "1         1.0       5.0       4.0     3.0          5.0       4.0  \n",
       "2         0.0       4.0       4.0     3.0          5.0       2.0  \n",
       "3         0.0       3.0       4.0     2.0          3.0       3.0  \n",
       "\n",
       "[3 rows x 184 columns]"
      ]
     },
     "execution_count": 46,
     "metadata": {},
     "output_type": "execute_result"
    }
   ],
   "source": [
    "# Make the final data frame containing all the features that will be used\n",
    "num_df = azdias[feat_info[feat_info[\"type\"] == \"numeric\"][\"attribute\"].values]\n",
    "int_df = azdias[feat_info[feat_info[\"type\"] == \"interval\"][\"attribute\"].values]\n",
    "ord_df = azdias[feat_info[feat_info[\"type\"] == \"ordinal\"][\"attribute\"].values]\n",
    "data = pd.concat([enc_df, num_df, int_df, ord_df], axis=1)\n",
    "data.head(3)"
   ]
  },
  {
   "cell_type": "markdown",
   "metadata": {},
   "source": [
    "### Step 1.3: Create a Cleaning Function\n",
    "\n",
    "Even though you've finished cleaning up the general population demographics data, it's important to look ahead to the future and realize that you'll need to perform the same cleaning steps on the customer demographics data. In this substep, complete the function below to execute the main feature selection, encoding, and re-engineering steps you performed above. Then, when it comes to looking at the customer data in Step 3, you can just run this function on that DataFrame to get the trimmed dataset in a single step."
   ]
  },
  {
   "cell_type": "code",
   "execution_count": 47,
   "metadata": {},
   "outputs": [],
   "source": [
    "def clean_data(df):\n",
    "    \"\"\"\n",
    "    Perform feature trimming, re-encoding, and engineering for demographics\n",
    "    data\n",
    "    \n",
    "    INPUT: Demographics DataFrame\n",
    "    OUTPUT: Trimmed and cleaned demographics DataFrame\n",
    "    \"\"\"    \n",
    "    # Drop any columns that we dropped in azdias\n",
    "    df = df[list(azdias)]\n",
    "    \n",
    "    # Replace all missing/encoded values with NaN\n",
    "    cols = list(df)\n",
    "    for c in cols:\n",
    "        m = string_to_list(feat_info[feat_info[\"attribute\"] == c][\"missing_or_unknown\"].values[0])\n",
    "        df[c].replace(m, np.NaN, inplace=True)\n",
    "    \n",
    "    # Remove rows with more than 15 missing values\n",
    "    df, _ = split_on_missing(df, 15)\n",
    "    \n",
    "    \n",
    "    # Handle categorical data\n",
    "    cat_data = df[feat_info[feat_info[\"type\"] == \"categorical\"][\"attribute\"].values]\n",
    "    \n",
    "    # Create a new dataframe of categorical variables \n",
    "    clean_df = pd.DataFrame()\n",
    "    \n",
    "    # Add binary variables as is\n",
    "    clean_df[binary] = df[binary]\n",
    "    \n",
    "    # If type is not numeric, one hot encode it\n",
    "    for col in list(clean_df):\n",
    "        if not np.issubdtype(clean_df[col].dtype, np.number):\n",
    "            clean_df = pd.concat([clean_df.drop(col, axis=1), pd.get_dummies(clean_df[col], prefix=col)], axis=1)\n",
    "    \n",
    "    # One hot encode multilevel variables we decided to keep\n",
    "    MLDF = df[multilevel]\n",
    "    for col in list(MLDF):\n",
    "        if MLDF[col].dtype == \"int\":\n",
    "            clean_df = pd.concat([clean_df, pd.get_dummies(MLDF[col], prefix=col, dummy_na=True)], axis=1)\n",
    "        else:\n",
    "            # This awkward workaround since pandas is not at the latest version; there's no 999 in the data frame\n",
    "            MM = MLDF[col].fillna(999)\n",
    "            clean_df = pd.concat([clean_df, pd.get_dummies(MM.astype(\"int\"), prefix=col)], axis=1)\n",
    "            clean_df.rename({col+\"_999\": col+\"_nan\"}, inplace=True, axis='columns')\n",
    "\n",
    "            \n",
    "    # Deal with mixed value data\n",
    "    decs = pd.get_dummies(df[\"PRAEGENDE_JUGENDJAHRE\"].replace(decade_map), dummy_na=True, prefix=\"decade\")\n",
    "    movs = pd.get_dummies(df[\"PRAEGENDE_JUGENDJAHRE\"].replace(movement_map), dummy_na=True, prefix=\"movement\")\n",
    "    clean_df = pd.concat([clean_df, decs, movs], axis=1)\n",
    "    \n",
    "    wealth = pd.get_dummies(df[\"CAMEO_INTL_2015\"].apply(lambda x: np.floor(float(x)/10)), dummy_na=True, prefix=\"weath\")\n",
    "    life_stage = pd.get_dummies(df[\"CAMEO_INTL_2015\"].apply(lambda x: float(x)%10), dummy_na=True, prefix=\"life_stage\")\n",
    "    clean_df = pd.concat([clean_df, wealth, life_stage], axis=1)\n",
    "    \n",
    "    lplg = df[\"LP_LEBENSPHASE_GROB\"]\n",
    "    ages = pd.get_dummies(lplg.replace(age_map), dummy_na=True, prefix=\"age\")\n",
    "    incs = pd.get_dummies(lplg.replace(income_map), dummy_na=True, prefix=\"income\")\n",
    "    hous = pd.get_dummies(lplg.replace(household_map), dummy_na=True, prefix=\"household\")\n",
    "    fams = pd.get_dummies(lplg.replace(family_map), dummy_na=True, prefix=\"family\")\n",
    "    clean_df = pd.concat([clean_df, ages, incs, hous, fams], axis=1)\n",
    "    \n",
    "    WL = df[\"WOHNLAGE\"].fillna(999)\n",
    "    clean_df = pd.concat([clean_df, pd.get_dummies(WL.astype(\"int\"), prefix=\"WOHNLAGE\")], axis=1)\n",
    "    clean_df.rename({\"WOHNLAGE_999\": \"WOHNLAGE_nan\"}, inplace=True, axis='columns')\n",
    "    \n",
    "    PLZ = df[\"PLZ8_BAUMAX\"].fillna(999)\n",
    "    clean_df = pd.concat([clean_df, pd.get_dummies(PLZ.astype(\"int\"), prefix=\"PLZ8_BAUMAX\")], axis=1)\n",
    "    clean_df.rename({\"PLZ8_BAUMAX_999\": \"PLZ8_BAUMAX_nan\"}, inplace=True, axis='columns')\n",
    "\n",
    "    \n",
    "    # Make the final data frame to return \n",
    "    num_df = df[feat_info[feat_info[\"type\"] == \"numeric\"][\"attribute\"].values]\n",
    "    int_df = df[feat_info[feat_info[\"type\"] == \"interval\"][\"attribute\"].values]\n",
    "    ord_df = df[feat_info[feat_info[\"type\"] == \"ordinal\"][\"attribute\"].values]\n",
    "    clean_df = pd.concat([clean_df, num_df, int_df, ord_df], axis=1)\n",
    "    \n",
    "    # Return the cleaned dataframe.\n",
    "    return clean_df\n",
    "\n"
   ]
  },
  {
   "cell_type": "markdown",
   "metadata": {},
   "source": [
    "## Step 2: Feature Transformation\n",
    "\n",
    "### Step 2.1: Apply Feature Scaling\n",
    "\n",
    "Before we apply dimensionality reduction techniques to the data, we need to perform feature scaling so that the principal component vectors are not influenced by the natural differences in scale for features. Starting from this part of the project, you'll want to keep an eye on the [API reference page for sklearn](http://scikit-learn.org/stable/modules/classes.html) to help you navigate to all of the classes and functions that you'll need. In this substep, you'll need to check the following:\n",
    "\n",
    "- sklearn requires that data not have missing values in order for its estimators to work properly. So, before applying the scaler to your data, make sure that you've cleaned the DataFrame of the remaining missing values. This can be as simple as just removing all data points with missing data, or applying an [Imputer](http://scikit-learn.org/stable/modules/generated/sklearn.preprocessing.Imputer.html) to replace all missing values. You might also try a more complicated procedure where you temporarily remove missing values in order to compute the scaling parameters before re-introducing those missing values and applying imputation. Think about how much missing data you have and what possible effects each approach might have on your analysis, and justify your decision in the discussion section below.\n",
    "- For the actual scaling function, a [StandardScaler](http://scikit-learn.org/stable/modules/generated/sklearn.preprocessing.StandardScaler.html) instance is suggested, scaling each feature to mean 0 and standard deviation 1.\n",
    "- For these classes, you can make use of the `.fit_transform()` method to both fit a procedure to the data as well as apply the transformation to the data at the same time. Don't forget to keep the fit sklearn objects handy, since you'll be applying them to the customer demographics data towards the end of the project."
   ]
  },
  {
   "cell_type": "code",
   "execution_count": 48,
   "metadata": {},
   "outputs": [],
   "source": [
    "# Fill in missing values with value randomly selected from probability distribution of other data points\n",
    "for col in list(data):\n",
    "    num_missing = data[col].isnull().sum()\n",
    "    if num_missing > 0: # Save on computation\n",
    "        missing_ind = data[col][data[col].isnull()].index.tolist() # Get indices of missing values\n",
    "        val_cts = data[col].value_counts(normalize=True) # Get distribution of each value\n",
    "        filler = np.random.choice(val_cts.index, num_missing, p=val_cts.values) # Randomly generate fillers\n",
    "        data[col].fillna(pd.Series(filler, missing_ind), inplace=True)"
   ]
  },
  {
   "cell_type": "code",
   "execution_count": 49,
   "metadata": {},
   "outputs": [
    {
     "data": {
      "text/plain": [
       "0"
      ]
     },
     "execution_count": 49,
     "metadata": {},
     "output_type": "execute_result"
    }
   ],
   "source": [
    "data.isnull().sum().sum()"
   ]
  },
  {
   "cell_type": "code",
   "execution_count": 50,
   "metadata": {},
   "outputs": [],
   "source": [
    "# Apply feature scaling to the general population demographics data.\n",
    "scaler = StandardScaler().fit(data)\n",
    "scaled_df = scaler.transform(data)\n"
   ]
  },
  {
   "cell_type": "markdown",
   "metadata": {},
   "source": [
    "### Discussion 2.1: Apply Feature Scaling\n",
    "Instead of imputing the mean or the mode, I decided to imput values randomly chosen from the probability distribution of each column. That way, the distribution of data is preserved. I then used a standard scaler to scale the data."
   ]
  },
  {
   "cell_type": "markdown",
   "metadata": {},
   "source": [
    "### Step 2.2: Perform Dimensionality Reduction\n",
    "\n",
    "On your scaled data, you are now ready to apply dimensionality reduction techniques.\n",
    "\n",
    "- Use sklearn's [PCA](http://scikit-learn.org/stable/modules/generated/sklearn.decomposition.PCA.html) class to apply principal component analysis on the data, thus finding the vectors of maximal variance in the data. To start, you should not set any parameters (so all components are computed) or set a number of components that is at least half the number of features (so there's enough features to see the general trend in variability).\n",
    "- Check out the ratio of variance explained by each principal component as well as the cumulative variance explained. Try plotting the cumulative or sequential values using matplotlib's [`plot()`](https://matplotlib.org/api/_as_gen/matplotlib.pyplot.plot.html) function. Based on what you find, select a value for the number of transformed features you'll retain for the clustering part of the project.\n",
    "- Once you've made a choice for the number of components to keep, make sure you re-fit a PCA instance to perform the decided-on transformation."
   ]
  },
  {
   "cell_type": "code",
   "execution_count": 51,
   "metadata": {},
   "outputs": [],
   "source": [
    "# Apply PCA to the data.\n",
    "pca = PCA()\n",
    "X_pca = pca.fit_transform(scaled_df)"
   ]
  },
  {
   "cell_type": "code",
   "execution_count": 52,
   "metadata": {},
   "outputs": [
    {
     "data": {
      "text/plain": [
       "Text(0.5,1,'Explained Variance Per Principal Component')"
      ]
     },
     "execution_count": 52,
     "metadata": {},
     "output_type": "execute_result"
    },
    {
     "data": {
      "image/png": "[encoded data removed]",
      "text/plain": [
       "<matplotlib.figure.Figure at 0x7fc0e8739080>"
      ]
     },
     "metadata": {
      "needs_background": "light"
     },
     "output_type": "display_data"
    }
   ],
   "source": [
    "# Investigate the variance accounted for by each principal component.\n",
    "# Create a plot like those in the labs\n",
    "nc = len(pca.explained_variance_ratio_)\n",
    "ind = np.arange(nc)\n",
    "vals = pca.explained_variance_ratio_\n",
    "\n",
    "f, ax = plt.subplots(1, 1, figsize=(10,10))\n",
    "ax.bar(ind, vals)\n",
    "ax.plot(ind, np.cumsum(vals))\n",
    "for i in range(nc):\n",
    "    ax.annotate(r\"%s%%\" % ((str(vals[i]*100)[:4])), (ind[i]+0.2, vals[i]), va=\"bottom\", ha=\"center\", fontsize=12)\n",
    "\n",
    "ax.xaxis.set_tick_params(width=0)\n",
    "ax.yaxis.set_tick_params(width=2, length=12)\n",
    "\n",
    "ax.set_xlabel(\"Principal Component\")\n",
    "ax.set_ylabel(\"Variance Explained (%)\")\n",
    "plt.title('Explained Variance Per Principal Component')\n"
   ]
  },
  {
   "cell_type": "code",
   "execution_count": 53,
   "metadata": {},
   "outputs": [],
   "source": [
    "# Re-apply PCA to the data while selecting for number of components to retain.\n",
    "pca = PCA(75).fit(scaled_df)\n",
    "X_pca = pca.transform(scaled_df)"
   ]
  },
  {
   "cell_type": "code",
   "execution_count": 54,
   "metadata": {},
   "outputs": [
    {
     "data": {
      "text/plain": [
       "0.87717584637056822"
      ]
     },
     "execution_count": 54,
     "metadata": {},
     "output_type": "execute_result"
    }
   ],
   "source": [
    "sum(pca.explained_variance_ratio_)"
   ]
  },
  {
   "cell_type": "markdown",
   "metadata": {},
   "source": [
    "### Discussion 2.2: Perform Dimensionality Reduction\n",
    "Roughly looking at the scree plot, I decided to keep 75 components since that looked like it would explain about 90% of the variability and cuts the number of fields to about 40% of the full data. I calculated the actual variability explained and it is about 88%.\n"
   ]
  },
  {
   "cell_type": "markdown",
   "metadata": {},
   "source": [
    "### Step 2.3: Interpret Principal Components\n",
    "\n",
    "Now that we have our transformed principal components, it's a nice idea to check out the weight of each variable on the first few components to see if they can be interpreted in some fashion.\n",
    "\n",
    "As a reminder, each principal component is a unit vector that points in the direction of highest variance (after accounting for the variance captured by earlier principal components). The further a weight is from zero, the more the principal component is in the direction of the corresponding feature. If two features have large weights of the same sign (both positive or both negative), then increases in one tend expect to be associated with increases in the other. To contrast, features with different signs can be expected to show a negative correlation: increases in one variable should result in a decrease in the other.\n",
    "\n",
    "- To investigate the features, you should map each weight to their corresponding feature name, then sort the features according to weight. The most interesting features for each principal component, then, will be those at the beginning and end of the sorted list. Use the data dictionary document to help you understand these most prominent features, their relationships, and what a positive or negative value on the principal component might indicate.\n",
    "- You should investigate and interpret feature associations from the first three principal components in this substep. To help facilitate this, you should write a function that you can call at any time to print the sorted list of feature weights, for the *i*-th principal component. This might come in handy in the next step of the project, when you interpret the tendencies of the discovered clusters."
   ]
  },
  {
   "cell_type": "code",
   "execution_count": 55,
   "metadata": {},
   "outputs": [],
   "source": [
    "# Define a function that maps weights of the ith principal component and prints the lined values sorted by weight\n",
    "def pca_weight(pca, cols, pc=1):\n",
    "    comps = pca.components_[pc-1]\n",
    "    wts = pd.Series(comps, cols)\n",
    "    print(wts.sort_values().head(10))\n",
    "    print(\"...\\n...\")\n",
    "    print(wts.sort_values().tail(10))\n",
    "cols = list(data)"
   ]
  },
  {
   "cell_type": "code",
   "execution_count": 56,
   "metadata": {},
   "outputs": [
    {
     "name": "stdout",
     "output_type": "stream",
     "text": [
      "MOBI_REGIO          -0.187113\n",
      "FINANZ_MINIMALIST   -0.181695\n",
      "income_high         -0.176805\n",
      "KBA05_ANTG1         -0.175424\n",
      "PLZ8_ANTG1          -0.171114\n",
      "KBA05_GBZ           -0.166459\n",
      "PLZ8_BAUMAX_1       -0.162918\n",
      "KONSUMNAEHE         -0.127551\n",
      "PLZ8_GBZ            -0.126123\n",
      "INNENSTADT          -0.120154\n",
      "dtype: float64\n",
      "...\n",
      "...\n",
      "life_stage_1.0        0.128850\n",
      "weath_5.0             0.139993\n",
      "EWDICHTE              0.144940\n",
      "FINANZ_HAUSBAUER      0.146099\n",
      "ORTSGR_KLS9           0.146570\n",
      "income_low/avg        0.157796\n",
      "PLZ8_ANTG4            0.165242\n",
      "PLZ8_ANTG3            0.170806\n",
      "HH_EINKOMMEN_SCORE    0.173825\n",
      "LP_STATUS_GROB_1      0.185229\n",
      "dtype: float64\n"
     ]
    }
   ],
   "source": [
    "# Map weights for the first principal component to corresponding feature names\n",
    "# and then print the linked values, sorted by weight.\n",
    "pca_weight(pca, cols, 1)\n"
   ]
  },
  {
   "cell_type": "code",
   "execution_count": 57,
   "metadata": {},
   "outputs": [
    {
     "name": "stdout",
     "output_type": "stream",
     "text": [
      "FINANZ_SPARER           -0.225504\n",
      "FINANZ_UNAUFFAELLIGER   -0.215283\n",
      "SEMIO_REL               -0.206915\n",
      "SEMIO_TRADV             -0.201992\n",
      "decade_90s              -0.201885\n",
      "FINANZ_ANLEGER          -0.201022\n",
      "SEMIO_PFLICHT           -0.200028\n",
      "SEMIO_RAT               -0.165867\n",
      "age_younger             -0.162265\n",
      "SEMIO_KULT              -0.154747\n",
      "dtype: float64\n",
      "...\n",
      "...\n",
      "CJT_GESAMTTYP_2         0.102224\n",
      "W_KEIT_KIND_HH          0.110402\n",
      "decade_60s              0.112998\n",
      "RETOURTYP_BK_S          0.154156\n",
      "SEMIO_LUST              0.156294\n",
      "age_higher              0.163402\n",
      "SEMIO_ERL               0.171428\n",
      "ZABEOTYP_3.0            0.193519\n",
      "FINANZ_VORSORGER        0.217349\n",
      "ALTERSKATEGORIE_GROB    0.226491\n",
      "dtype: float64\n"
     ]
    }
   ],
   "source": [
    "# Map weights for the second principal component to corresponding feature names\n",
    "# and then print the linked values, sorted by weight.\n",
    "pca_weight(pca, cols, 2)\n"
   ]
  },
  {
   "cell_type": "code",
   "execution_count": 58,
   "metadata": {},
   "outputs": [
    {
     "name": "stdout",
     "output_type": "stream",
     "text": [
      "SEMIO_VERT           -0.237943\n",
      "SEMIO_SOZ            -0.197376\n",
      "SEMIO_KULT           -0.186469\n",
      "SEMIO_FAM            -0.179296\n",
      "family_not_spec      -0.139092\n",
      "FINANZ_MINIMALIST    -0.101536\n",
      "SHOPPER_TYP_0        -0.095935\n",
      "FINANZTYP_5.0        -0.093022\n",
      "ZABEOTYP_1.0         -0.083790\n",
      "NATIONALITAET_KZ_1   -0.072006\n",
      "dtype: float64\n",
      "...\n",
      "...\n",
      "SHOPPER_TYP_nan    0.163595\n",
      "SEMIO_ERL          0.168187\n",
      "SEMIO_DOM          0.185013\n",
      "SEMIO_KRIT         0.187962\n",
      "SEMIO_KAEM         0.218880\n",
      "age_nan            0.233920\n",
      "family_nan         0.233920\n",
      "household_nan      0.233920\n",
      "income_nan         0.233920\n",
      "ANREDE_KZ          0.247406\n",
      "dtype: float64\n"
     ]
    }
   ],
   "source": [
    "# Map weights for the third principal component to corresponding feature names\n",
    "# and then print the linked values, sorted by weight.\n",
    "pca_weight(pca, cols, 3)\n"
   ]
  },
  {
   "cell_type": "markdown",
   "metadata": {},
   "source": [
    "### Discussion 2.3: Interpret Principal Components\n",
    "For the first principal component, the most negative weight is for `MOBI_REGIO` (movement patterns - high to low) and the most positive weight is for `LP_STATUS_GROB_1` (social status, low-income earners). Low income people might have less mobility than wealthier people. \n",
    "\n",
    "For the second principal component, the most negative weight is for `FINANZ_SPARER` (money-saver type - high to low) and the most positive weight is for `ALTERSKATEGORIE_GROB` (estimated age group - young to old). This makes sense that the older you are, the more you save and vice versa.\n",
    "\n",
    "For the third principal component, the most negative weight is for `SEMIO_VERT` (dreamful personality - high to low) and the most positive weight is for `ANREDE_KZ` (gender). One gender might have a more dreamful personality than the other. \n"
   ]
  },
  {
   "cell_type": "markdown",
   "metadata": {},
   "source": [
    "## Step 3: Clustering\n",
    "\n",
    "### Step 3.1: Apply Clustering to General Population\n",
    "\n",
    "You've assessed and cleaned the demographics data, then scaled and transformed them. Now, it's time to see how the data clusters in the principal components space. In this substep, you will apply k-means clustering to the dataset and use the average within-cluster distances from each point to their assigned cluster's centroid to decide on a number of clusters to keep.\n",
    "\n",
    "- Use sklearn's [KMeans](http://scikit-learn.org/stable/modules/generated/sklearn.cluster.KMeans.html#sklearn.cluster.KMeans) class to perform k-means clustering on the PCA-transformed data.\n",
    "- Then, compute the average difference from each point to its assigned cluster's center. **Hint**: The KMeans object's `.score()` method might be useful here, but note that in sklearn, scores tend to be defined so that larger is better. Try applying it to a small, toy dataset, or use an internet search to help your understanding.\n",
    "- Perform the above two steps for a number of different cluster counts. You can then see how the average distance decreases with an increasing number of clusters. However, each additional cluster provides a smaller net benefit. Use this fact to select a final number of clusters in which to group the data. **Warning**: because of the large size of the dataset, it can take a long time for the algorithm to resolve. The more clusters to fit, the longer the algorithm will take. You should test for cluster counts through at least 10 clusters to get the full picture, but you shouldn't need to test for a number of clusters above about 30.\n",
    "- Once you've selected a final number of clusters to use, re-fit a KMeans instance to perform the clustering operation. Make sure that you also obtain the cluster assignments for the general demographics data, since you'll be using them in the final Step 3.3."
   ]
  },
  {
   "cell_type": "code",
   "execution_count": 59,
   "metadata": {},
   "outputs": [
    {
     "name": "stdout",
     "output_type": "stream",
     "text": [
      "Cluster 2: 115891131.086\n",
      "Cluster 3: 110665512.100\n",
      "Cluster 4: 107382424.139\n",
      "Cluster 5: 103063231.534\n",
      "Cluster 6: 100590526.604\n",
      "Cluster 7: 98958573.412\n",
      "Cluster 8: 97343839.835\n",
      "Cluster 9: 95122365.188\n",
      "Cluster 10: 93588459.226\n",
      "Cluster 11: 92542464.970\n",
      "Cluster 12: 90957302.027\n",
      "Cluster 13: 89073321.254\n",
      "Cluster 14: 88659467.773\n",
      "Cluster 15: 87277765.869\n",
      "Cluster 16: 84974562.454\n",
      "Cluster 17: 84842683.952\n",
      "Cluster 18: 83651076.728\n",
      "Cluster 19: 84131273.579\n",
      "Cluster 20: 82821564.666\n",
      "Cluster 21: 81475973.847\n",
      "Cluster 22: 80729326.306\n",
      "Cluster 23: 79829785.527\n",
      "Cluster 24: 79671905.835\n",
      "Cluster 25: 78911092.019\n",
      "Cluster 26: 78895319.479\n",
      "Cluster 27: 77837241.252\n",
      "Cluster 28: 77390190.596\n",
      "Cluster 29: 76924781.772\n",
      "Cluster 30: 76493743.071\n"
     ]
    }
   ],
   "source": [
    "# Loop ver a number of different cluster counts\n",
    "centers = []\n",
    "scores = []\n",
    "\n",
    "total_n = 30\n",
    "for n in keep_awake(range(2, total_n+1)):\n",
    "    kmeans = KMeans(n_clusters=n)\n",
    "    model = kmeans.fit(X_pca)\n",
    "    score = np.abs(model.score(X_pca))\n",
    "    centers.append(n)\n",
    "    scores.append(score)  \n",
    "    print(\"Cluster {}: {:.3f}\".format(n, scores[-1]))"
   ]
  },
  {
   "cell_type": "code",
   "execution_count": 61,
   "metadata": {},
   "outputs": [
    {
     "data": {
      "image/png": "[encoded data removed]",
      "text/plain": [
       "<matplotlib.figure.Figure at 0x7fc0dbdd0908>"
      ]
     },
     "metadata": {
      "needs_background": "light"
     },
     "output_type": "display_data"
    }
   ],
   "source": [
    "# Investigate the change in within-cluster distance across number of clusters.\n",
    "# A plot like the one in lab; look for the elbow\n",
    "plt.plot(centers, scores, linestyle='--', marker='o', color='b');\n",
    "plt.xlabel('K');\n",
    "plt.ylabel('SSE');\n",
    "plt.title('SSE vs. K');"
   ]
  },
  {
   "cell_type": "code",
   "execution_count": 62,
   "metadata": {},
   "outputs": [],
   "source": [
    "# Re-fit the k-means model with the selected number of clusters and obtain\n",
    "# cluster predictions for the general population demographics data.\n",
    "num_clust = 17\n",
    "kmeans = KMeans(n_clusters=num_clust)\n",
    "model = kmeans.fit(X_pca)\n",
    "preds = model.predict(X_pca)\n",
    "clust_cent = model.cluster_centers_"
   ]
  },
  {
   "cell_type": "code",
   "execution_count": 63,
   "metadata": {},
   "outputs": [
    {
     "data": {
      "text/plain": [
       "(array([ 28111.,  27067.,  52549.,  88091.,  64520.,  98690.,  68074.,\n",
       "         89505.,   3297.,  26421.,  17800.,  76981.,  37160.,   4300.,\n",
       "         56054.,   4368.,  49299.]),\n",
       " array([  0.        ,   0.94117647,   1.88235294,   2.82352941,\n",
       "          3.76470588,   4.70588235,   5.64705882,   6.58823529,\n",
       "          7.52941176,   8.47058824,   9.41176471,  10.35294118,\n",
       "         11.29411765,  12.23529412,  13.17647059,  14.11764706,\n",
       "         15.05882353,  16.        ]),\n",
       " <a list of 17 Patch objects>)"
      ]
     },
     "execution_count": 63,
     "metadata": {},
     "output_type": "execute_result"
    },
    {
     "data": {
      "image/png": "[encoded data removed]",
      "text/plain": [
       "<matplotlib.figure.Figure at 0x7fc0dbdd05c0>"
      ]
     },
     "metadata": {
      "needs_background": "light"
     },
     "output_type": "display_data"
    }
   ],
   "source": [
    "plt.hist(preds, bins=num_clust)"
   ]
  },
  {
   "cell_type": "markdown",
   "metadata": {},
   "source": [
    "### Discussion 3.1: Apply Clustering to General Population\n",
    "I plotted the number of clusters from n=2 to n=30. There is not a clear elbow in the plot; it continually keeps decreasing. I chose 17 clusters since after that there seems to be a linear decrease instead of an exponential-like curve."
   ]
  },
  {
   "cell_type": "markdown",
   "metadata": {},
   "source": [
    "### Step 3.2: Apply All Steps to the Customer Data\n",
    "\n",
    "Now that you have clusters and cluster centers for the general population, it's time to see how the customer data maps on to those clusters. Take care to not confuse this for re-fitting all of the models to the customer data. Instead, you're going to use the fits from the general population to clean, transform, and cluster the customer data. In the last step of the project, you will interpret how the general population fits apply to the customer data.\n",
    "\n",
    "- Don't forget when loading in the customers data, that it is semicolon (`;`) delimited.\n",
    "- Apply the same feature wrangling, selection, and engineering steps to the customer demographics using the `clean_data()` function you created earlier. (You can assume that the customer demographics data has similar meaning behind missing data patterns as the general demographics data.)\n",
    "- Use the sklearn objects from the general demographics data, and apply their transformations to the customers data. That is, you should not be using a `.fit()` or `.fit_transform()` method to re-fit the old objects, nor should you be creating new sklearn objects! Carry the data through the feature scaling, PCA, and clustering steps, obtaining cluster assignments for all of the data in the customer demographics data."
   ]
  },
  {
   "cell_type": "code",
   "execution_count": 64,
   "metadata": {},
   "outputs": [],
   "source": [
    "# Load in the customer demographics data.\n",
    "customers = pd.read_csv(\"Udacity_CUSTOMERS_Subset.csv\", sep=\";\")"
   ]
  },
  {
   "cell_type": "code",
   "execution_count": 65,
   "metadata": {},
   "outputs": [
    {
     "name": "stderr",
     "output_type": "stream",
     "text": [
      "/opt/conda/lib/python3.6/site-packages/pandas/core/generic.py:5890: SettingWithCopyWarning: \n",
      "A value is trying to be set on a copy of a slice from a DataFrame\n",
      "\n",
      "See the caveats in the documentation: http://pandas.pydata.org/pandas-docs/stable/indexing.html#indexing-view-versus-copy\n",
      "  self._update_inplace(new_data)\n"
     ]
    }
   ],
   "source": [
    "# Apply preprocessing, feature transformation, and clustering from the general\n",
    "# demographics onto the customer data, obtaining cluster predictions for the\n",
    "# customer demographics data.\n",
    "clean_cus = clean_data(customers)\n",
    "\n",
    "for col in list(clean_cus):\n",
    "    num_missing = clean_cus[col].isnull().sum()\n",
    "    if num_missing > 0: \n",
    "        missing_ind = clean_cus[col][clean_cus[col].isnull()].index.tolist() \n",
    "        val_cts = clean_cus[col].value_counts(normalize=True) \n",
    "        filler = np.random.choice(val_cts.index, num_missing, p=val_cts.values) \n",
    "        clean_cus[col].fillna(pd.Series(filler, missing_ind), inplace=True)"
   ]
  },
  {
   "cell_type": "code",
   "execution_count": 66,
   "metadata": {},
   "outputs": [],
   "source": [
    "needed = [col for col in list(data) if col not in list(clean_cus)]\n",
    "for n in needed:\n",
    "    clean_cus[n] = [0]*len(clean_cus)"
   ]
  },
  {
   "cell_type": "code",
   "execution_count": 67,
   "metadata": {},
   "outputs": [],
   "source": [
    "scale_cus = scaler.transform(clean_cus)\n",
    "pca_cus = pca.transform(scale_cus)"
   ]
  },
  {
   "cell_type": "code",
   "execution_count": 68,
   "metadata": {},
   "outputs": [],
   "source": [
    "cus_clust = model.predict(pca_cus)"
   ]
  },
  {
   "cell_type": "code",
   "execution_count": 69,
   "metadata": {},
   "outputs": [
    {
     "data": {
      "text/plain": [
       "Counter({8: 140898})"
      ]
     },
     "execution_count": 69,
     "metadata": {},
     "output_type": "execute_result"
    }
   ],
   "source": [
    "# Look at frequency of clusters for customer data\n",
    "Counter(cus_clust)"
   ]
  },
  {
   "cell_type": "markdown",
   "metadata": {},
   "source": [
    "It looks as if the model predicted all the customers into the same cluster"
   ]
  },
  {
   "cell_type": "markdown",
   "metadata": {},
   "source": [
    "### Step 3.3: Compare Customer Data to Demographics Data\n",
    "\n",
    "At this point, you have clustered data based on demographics of the general population of Germany, and seen how the customer data for a mail-order sales company maps onto those demographic clusters. In this final substep, you will compare the two cluster distributions to see where the strongest customer base for the company is.\n",
    "\n",
    "Consider the proportion of persons in each cluster for the general population, and the proportions for the customers. If we think the company's customer base to be universal, then the cluster assignment proportions should be fairly similar between the two. If there are only particular segments of the population that are interested in the company's products, then we should see a mismatch from one to the other. If there is a higher proportion of persons in a cluster for the customer data compared to the general population (e.g. 5% of persons are assigned to a cluster for the general population, but 15% of the customer data is closest to that cluster's centroid) then that suggests the people in that cluster to be a target audience for the company. On the other hand, the proportion of the data in a cluster being larger in the general population than the customer data (e.g. only 2% of customers closest to a population centroid that captures 6% of the data) suggests that group of persons to be outside of the target demographics.\n",
    "\n",
    "Take a look at the following points in this step:\n",
    "\n",
    "- Compute the proportion of data points in each cluster for the general population and the customer data. Visualizations will be useful here: both for the individual dataset proportions, but also to visualize the ratios in cluster representation between groups. Seaborn's [`countplot()`](https://seaborn.pydata.org/generated/seaborn.countplot.html) or [`barplot()`](https://seaborn.pydata.org/generated/seaborn.barplot.html) function could be handy.\n",
    "  - Recall the analysis you performed in step 1.1.3 of the project, where you separated out certain data points from the dataset if they had more than a specified threshold of missing values. If you found that this group was qualitatively different from the main bulk of the data, you should treat this as an additional data cluster in this analysis. Make sure that you account for the number of data points in this subset, for both the general population and customer datasets, when making your computations!\n",
    "- Which cluster or clusters are overrepresented in the customer dataset compared to the general population? Select at least one such cluster and infer what kind of people might be represented by that cluster. Use the principal component interpretations from step 2.3 or look at additional components to help you make this inference. Alternatively, you can use the `.inverse_transform()` method of the PCA and StandardScaler objects to transform centroids back to the original data space and interpret the retrieved values directly.\n",
    "- Perform a similar investigation for the underrepresented clusters. Which cluster or clusters are underrepresented in the customer dataset compared to the general population, and what kinds of people are typified by these clusters?"
   ]
  },
  {
   "cell_type": "code",
   "execution_count": 70,
   "metadata": {},
   "outputs": [
    {
     "data": {
      "image/png": "[encoded data removed]",
      "text/plain": [
       "<matplotlib.figure.Figure at 0x7fc0d13bff60>"
      ]
     },
     "metadata": {
      "needs_background": "light"
     },
     "output_type": "display_data"
    }
   ],
   "source": [
    "# Compare the proportion of data in each cluster for the customer data to the\n",
    "# proportion of data in each cluster for the general population.\n",
    "f, (a1, a2) = plt.subplots(1, 2, figsize=(20, 10))\n",
    "sns.countplot(preds, ax=a1)\n",
    "sns.countplot(cus_clust, ax=a2)\n",
    "a1.title.set_text(\"General Population\")\n",
    "a2.title.set_text(\"Customer Base\")"
   ]
  },
  {
   "cell_type": "code",
   "execution_count": 71,
   "metadata": {},
   "outputs": [],
   "source": [
    "cust_props = {k: v/len(cus_clust) for k, v in Counter(cus_clust).items()}\n",
    "pop_props = {k: v/len(preds) for k, v in Counter(preds).items()}"
   ]
  },
  {
   "cell_type": "code",
   "execution_count": 72,
   "metadata": {},
   "outputs": [
    {
     "data": {
      "text/html": [
       "<div>\n",
       "<style scoped>\n",
       "    .dataframe tbody tr th:only-of-type {\n",
       "        vertical-align: middle;\n",
       "    }\n",
       "\n",
       "    .dataframe tbody tr th {\n",
       "        vertical-align: top;\n",
       "    }\n",
       "\n",
       "    .dataframe thead th {\n",
       "        text-align: right;\n",
       "    }\n",
       "</style>\n",
       "<table border=\"1\" class=\"dataframe\">\n",
       "  <thead>\n",
       "    <tr style=\"text-align: right;\">\n",
       "      <th></th>\n",
       "      <th>0</th>\n",
       "      <th>1</th>\n",
       "      <th>2</th>\n",
       "      <th>3</th>\n",
       "      <th>4</th>\n",
       "      <th>5</th>\n",
       "      <th>6</th>\n",
       "      <th>7</th>\n",
       "      <th>8</th>\n",
       "      <th>9</th>\n",
       "      <th>10</th>\n",
       "      <th>11</th>\n",
       "      <th>12</th>\n",
       "      <th>13</th>\n",
       "      <th>14</th>\n",
       "      <th>15</th>\n",
       "      <th>16</th>\n",
       "    </tr>\n",
       "  </thead>\n",
       "  <tbody>\n",
       "    <tr>\n",
       "      <th>customers</th>\n",
       "      <td>0.000000</td>\n",
       "      <td>0.000000</td>\n",
       "      <td>0.000000</td>\n",
       "      <td>0.000000</td>\n",
       "      <td>0.000000</td>\n",
       "      <td>0.000000</td>\n",
       "      <td>0.000000</td>\n",
       "      <td>0.00000</td>\n",
       "      <td>1.000000</td>\n",
       "      <td>0.000000</td>\n",
       "      <td>0.000000</td>\n",
       "      <td>0.000000</td>\n",
       "      <td>0.000000</td>\n",
       "      <td>0.000000</td>\n",
       "      <td>0.00000</td>\n",
       "      <td>0.000000</td>\n",
       "      <td>0.000000</td>\n",
       "    </tr>\n",
       "    <tr>\n",
       "      <th>population</th>\n",
       "      <td>0.035481</td>\n",
       "      <td>0.034163</td>\n",
       "      <td>0.066326</td>\n",
       "      <td>0.111186</td>\n",
       "      <td>0.081435</td>\n",
       "      <td>0.124563</td>\n",
       "      <td>0.085921</td>\n",
       "      <td>0.11297</td>\n",
       "      <td>0.004161</td>\n",
       "      <td>0.033348</td>\n",
       "      <td>0.022467</td>\n",
       "      <td>0.097163</td>\n",
       "      <td>0.046902</td>\n",
       "      <td>0.005427</td>\n",
       "      <td>0.07075</td>\n",
       "      <td>0.005513</td>\n",
       "      <td>0.062224</td>\n",
       "    </tr>\n",
       "  </tbody>\n",
       "</table>\n",
       "</div>"
      ],
      "text/plain": [
       "                  0         1         2         3         4         5   \\\n",
       "customers   0.000000  0.000000  0.000000  0.000000  0.000000  0.000000   \n",
       "population  0.035481  0.034163  0.066326  0.111186  0.081435  0.124563   \n",
       "\n",
       "                  6        7         8         9         10        11  \\\n",
       "customers   0.000000  0.00000  1.000000  0.000000  0.000000  0.000000   \n",
       "population  0.085921  0.11297  0.004161  0.033348  0.022467  0.097163   \n",
       "\n",
       "                  12        13       14        15        16  \n",
       "customers   0.000000  0.000000  0.00000  0.000000  0.000000  \n",
       "population  0.046902  0.005427  0.07075  0.005513  0.062224  "
      ]
     },
     "execution_count": 72,
     "metadata": {},
     "output_type": "execute_result"
    }
   ],
   "source": [
    "proportions = pd.DataFrame([cust_props, pop_props], index=[\"customers\", \"population\"]).fillna(0)\n",
    "proportions"
   ]
  },
  {
   "cell_type": "code",
   "execution_count": 73,
   "metadata": {},
   "outputs": [
    {
     "data": {
      "text/plain": [
       "array([<matplotlib.axes._subplots.AxesSubplot object at 0x7fc0d128abe0>,\n",
       "       <matplotlib.axes._subplots.AxesSubplot object at 0x7fc0d1254438>], dtype=object)"
      ]
     },
     "execution_count": 73,
     "metadata": {},
     "output_type": "execute_result"
    },
    {
     "data": {
      "image/png": "[encoded data removed]",
      "text/plain": [
       "<matplotlib.figure.Figure at 0x7fc0c92a2c88>"
      ]
     },
     "metadata": {},
     "output_type": "display_data"
    }
   ],
   "source": [
    "proportions.transpose().plot(kind=\"pie\", subplots=True, figsize=(20,10), fontsize=16)"
   ]
  },
  {
   "cell_type": "code",
   "execution_count": 74,
   "metadata": {},
   "outputs": [
    {
     "data": {
      "text/plain": [
       "Text(0,0.5,'Proportion of Population')"
      ]
     },
     "execution_count": 74,
     "metadata": {},
     "output_type": "execute_result"
    },
    {
     "data": {
      "image/png": "[encoded data removed]",
      "text/plain": [
       "<matplotlib.figure.Figure at 0x7fc0d12a8320>"
      ]
     },
     "metadata": {
      "needs_background": "light"
     },
     "output_type": "display_data"
    }
   ],
   "source": [
    "a = proportions.transpose().plot(kind=\"bar\", figsize=(10,10), fontsize=16)\n",
    "plt.xlabel(\"Cluster\", fontsize=16)\n",
    "plt.ylabel(\"Proportion of Population\", fontsize=16)"
   ]
  },
  {
   "cell_type": "code",
   "execution_count": 78,
   "metadata": {},
   "outputs": [],
   "source": [
    "# What kinds of people are part of a cluster that is overrepresented in the\n",
    "# customer data compared to the general population?\n",
    "# There are only customers in cluster 8\n",
    "# Look at what kind of people are in cluster 8\n",
    "c8 = clust_cent[8]\n",
    "acp = pca.inverse_transform(c8)\n",
    "unsc = scaler.inverse_transform(acp)\n",
    "df8 = pd.DataFrame({list(data)[i]: e for i, e in enumerate(unsc)}, index=[\"cluster 8\"])"
   ]
  },
  {
   "cell_type": "code",
   "execution_count": 79,
   "metadata": {},
   "outputs": [
    {
     "data": {
      "text/plain": [
       "['ANREDE_KZ',\n",
       " 'GREEN_AVANTGARDE',\n",
       " 'SOHO_KZ',\n",
       " 'VERS_TYP',\n",
       " 'OST_WEST_KZ_O',\n",
       " 'OST_WEST_KZ_W',\n",
       " 'CJT_GESAMTTYP_1',\n",
       " 'CJT_GESAMTTYP_2',\n",
       " 'CJT_GESAMTTYP_3',\n",
       " 'CJT_GESAMTTYP_4',\n",
       " 'CJT_GESAMTTYP_5',\n",
       " 'CJT_GESAMTTYP_6',\n",
       " 'CJT_GESAMTTYP_nan',\n",
       " 'FINANZTYP_1.0',\n",
       " 'FINANZTYP_2.0',\n",
       " 'FINANZTYP_3.0',\n",
       " 'FINANZTYP_4.0',\n",
       " 'FINANZTYP_5.0',\n",
       " 'FINANZTYP_6.0',\n",
       " 'FINANZTYP_nan',\n",
       " 'LP_FAMILIE_GROB_1',\n",
       " 'LP_FAMILIE_GROB_2',\n",
       " 'LP_FAMILIE_GROB_3',\n",
       " 'LP_FAMILIE_GROB_4',\n",
       " 'LP_FAMILIE_GROB_5',\n",
       " 'LP_FAMILIE_GROB_nan',\n",
       " 'LP_STATUS_FEIN_1',\n",
       " 'LP_STATUS_FEIN_2',\n",
       " 'LP_STATUS_FEIN_3',\n",
       " 'LP_STATUS_FEIN_4',\n",
       " 'LP_STATUS_FEIN_5',\n",
       " 'LP_STATUS_FEIN_6',\n",
       " 'LP_STATUS_FEIN_7',\n",
       " 'LP_STATUS_FEIN_8',\n",
       " 'LP_STATUS_FEIN_9',\n",
       " 'LP_STATUS_FEIN_10',\n",
       " 'LP_STATUS_FEIN_nan',\n",
       " 'LP_STATUS_GROB_1',\n",
       " 'LP_STATUS_GROB_2',\n",
       " 'LP_STATUS_GROB_3',\n",
       " 'LP_STATUS_GROB_4',\n",
       " 'LP_STATUS_GROB_5',\n",
       " 'LP_STATUS_GROB_nan',\n",
       " 'NATIONALITAET_KZ_1',\n",
       " 'NATIONALITAET_KZ_2',\n",
       " 'NATIONALITAET_KZ_3',\n",
       " 'NATIONALITAET_KZ_nan',\n",
       " 'SHOPPER_TYP_0',\n",
       " 'SHOPPER_TYP_1',\n",
       " 'SHOPPER_TYP_2',\n",
       " 'SHOPPER_TYP_3',\n",
       " 'SHOPPER_TYP_nan',\n",
       " 'ZABEOTYP_1.0',\n",
       " 'ZABEOTYP_2.0',\n",
       " 'ZABEOTYP_3.0',\n",
       " 'ZABEOTYP_4.0',\n",
       " 'ZABEOTYP_5.0',\n",
       " 'ZABEOTYP_6.0',\n",
       " 'ZABEOTYP_nan',\n",
       " 'GEBAEUDETYP_1',\n",
       " 'GEBAEUDETYP_2',\n",
       " 'GEBAEUDETYP_3',\n",
       " 'GEBAEUDETYP_4',\n",
       " 'GEBAEUDETYP_5',\n",
       " 'GEBAEUDETYP_6',\n",
       " 'GEBAEUDETYP_8',\n",
       " 'CAMEO_DEUG_2015_1',\n",
       " 'CAMEO_DEUG_2015_2',\n",
       " 'CAMEO_DEUG_2015_3',\n",
       " 'CAMEO_DEUG_2015_4',\n",
       " 'CAMEO_DEUG_2015_5',\n",
       " 'CAMEO_DEUG_2015_6',\n",
       " 'CAMEO_DEUG_2015_7',\n",
       " 'CAMEO_DEUG_2015_8',\n",
       " 'CAMEO_DEUG_2015_9',\n",
       " 'CAMEO_DEUG_2015_nan',\n",
       " 'decade_40s',\n",
       " 'decade_50s',\n",
       " 'decade_60s',\n",
       " 'decade_70s',\n",
       " 'decade_80s',\n",
       " 'decade_90s',\n",
       " 'decade_nan',\n",
       " 'movement_avantgarde',\n",
       " 'movement_mainstream',\n",
       " 'movement_nan',\n",
       " 'weath_1.0',\n",
       " 'weath_2.0',\n",
       " 'weath_3.0',\n",
       " 'weath_4.0',\n",
       " 'weath_5.0',\n",
       " 'weath_nan',\n",
       " 'life_stage_1.0',\n",
       " 'life_stage_2.0',\n",
       " 'life_stage_3.0',\n",
       " 'life_stage_4.0',\n",
       " 'life_stage_5.0',\n",
       " 'life_stage_nan',\n",
       " 'age_higher',\n",
       " 'age_not_spce',\n",
       " 'age_younger',\n",
       " 'age_nan',\n",
       " 'income_high',\n",
       " 'income_low/avg',\n",
       " 'income_not_spec',\n",
       " 'income_nan',\n",
       " 'household_multiperson',\n",
       " 'household_not_spec',\n",
       " 'household_single',\n",
       " 'household_nan',\n",
       " 'family_couple',\n",
       " 'family_family',\n",
       " 'family_not_spec',\n",
       " 'family_parents',\n",
       " 'family_nan',\n",
       " 'WOHNLAGE_0',\n",
       " 'WOHNLAGE_1',\n",
       " 'WOHNLAGE_2',\n",
       " 'WOHNLAGE_3',\n",
       " 'WOHNLAGE_4',\n",
       " 'WOHNLAGE_5',\n",
       " 'WOHNLAGE_7',\n",
       " 'WOHNLAGE_8',\n",
       " 'PLZ8_BAUMAX_1',\n",
       " 'PLZ8_BAUMAX_2',\n",
       " 'PLZ8_BAUMAX_3',\n",
       " 'PLZ8_BAUMAX_4',\n",
       " 'PLZ8_BAUMAX_5',\n",
       " 'PLZ8_BAUMAX_nan',\n",
       " 'ANZ_PERSONEN',\n",
       " 'ANZ_TITEL',\n",
       " 'ANZ_HAUSHALTE_AKTIV',\n",
       " 'ANZ_HH_TITEL',\n",
       " 'MIN_GEBAEUDEJAHR',\n",
       " 'KBA13_ANZAHL_PKW',\n",
       " 'ALTERSKATEGORIE_GROB',\n",
       " 'FINANZ_MINIMALIST',\n",
       " 'FINANZ_SPARER',\n",
       " 'FINANZ_VORSORGER',\n",
       " 'FINANZ_ANLEGER',\n",
       " 'FINANZ_UNAUFFAELLIGER',\n",
       " 'FINANZ_HAUSBAUER',\n",
       " 'HEALTH_TYP',\n",
       " 'RETOURTYP_BK_S',\n",
       " 'SEMIO_SOZ',\n",
       " 'SEMIO_FAM',\n",
       " 'SEMIO_REL',\n",
       " 'SEMIO_MAT',\n",
       " 'SEMIO_VERT',\n",
       " 'SEMIO_LUST',\n",
       " 'SEMIO_ERL',\n",
       " 'SEMIO_KULT',\n",
       " 'SEMIO_RAT',\n",
       " 'SEMIO_KRIT',\n",
       " 'SEMIO_DOM',\n",
       " 'SEMIO_KAEM',\n",
       " 'SEMIO_PFLICHT',\n",
       " 'SEMIO_TRADV',\n",
       " 'HH_EINKOMMEN_SCORE',\n",
       " 'W_KEIT_KIND_HH',\n",
       " 'WOHNDAUER_2008',\n",
       " 'KONSUMNAEHE',\n",
       " 'KBA05_ANTG1',\n",
       " 'KBA05_ANTG2',\n",
       " 'KBA05_ANTG3',\n",
       " 'KBA05_ANTG4',\n",
       " 'KBA05_GBZ',\n",
       " 'BALLRAUM',\n",
       " 'EWDICHTE',\n",
       " 'INNENSTADT',\n",
       " 'GEBAEUDETYP_RASTER',\n",
       " 'KKK',\n",
       " 'MOBI_REGIO',\n",
       " 'ONLINE_AFFINITAET',\n",
       " 'REGIOTYP',\n",
       " 'PLZ8_ANTG1',\n",
       " 'PLZ8_ANTG2',\n",
       " 'PLZ8_ANTG3',\n",
       " 'PLZ8_ANTG4',\n",
       " 'PLZ8_HHZ',\n",
       " 'PLZ8_GBZ',\n",
       " 'ARBEIT',\n",
       " 'ORTSGR_KLS9',\n",
       " 'RELAT_AB']"
      ]
     },
     "execution_count": 79,
     "metadata": {},
     "output_type": "execute_result"
    }
   ],
   "source": [
    "list(df8)"
   ]
  },
  {
   "cell_type": "code",
   "execution_count": 82,
   "metadata": {},
   "outputs": [
    {
     "data": {
      "text/html": [
       "<div>\n",
       "<style scoped>\n",
       "    .dataframe tbody tr th:only-of-type {\n",
       "        vertical-align: middle;\n",
       "    }\n",
       "\n",
       "    .dataframe tbody tr th {\n",
       "        vertical-align: top;\n",
       "    }\n",
       "\n",
       "    .dataframe thead th {\n",
       "        text-align: right;\n",
       "    }\n",
       "</style>\n",
       "<table border=\"1\" class=\"dataframe\">\n",
       "  <thead>\n",
       "    <tr style=\"text-align: right;\">\n",
       "      <th></th>\n",
       "      <th>weath_1.0</th>\n",
       "      <th>weath_2.0</th>\n",
       "      <th>weath_3.0</th>\n",
       "      <th>weath_4.0</th>\n",
       "      <th>weath_5.0</th>\n",
       "      <th>weath_nan</th>\n",
       "    </tr>\n",
       "  </thead>\n",
       "  <tbody>\n",
       "    <tr>\n",
       "      <th>cluster 8</th>\n",
       "      <td>0.312957</td>\n",
       "      <td>0.145234</td>\n",
       "      <td>0.156785</td>\n",
       "      <td>0.226465</td>\n",
       "      <td>0.158267</td>\n",
       "      <td>0.00029</td>\n",
       "    </tr>\n",
       "  </tbody>\n",
       "</table>\n",
       "</div>"
      ],
      "text/plain": [
       "           weath_1.0  weath_2.0  weath_3.0  weath_4.0  weath_5.0  weath_nan\n",
       "cluster 8   0.312957   0.145234   0.156785   0.226465   0.158267    0.00029"
      ]
     },
     "execution_count": 82,
     "metadata": {},
     "output_type": "execute_result"
    }
   ],
   "source": [
    "# What kinds of people are part of a cluster that is underrepresented in the\n",
    "# customer data compared to the general population?\n",
    "# Look at cluster 15 and cluster \n",
    "# Wealth:\n",
    "wealth_col = [col for col in df8 if col.startswith('weath')] # Looks like I mispelled wealth above\n",
    "df8[wealth_col]"
   ]
  },
  {
   "cell_type": "code",
   "execution_count": 84,
   "metadata": {},
   "outputs": [
    {
     "data": {
      "text/html": [
       "<div>\n",
       "<style scoped>\n",
       "    .dataframe tbody tr th:only-of-type {\n",
       "        vertical-align: middle;\n",
       "    }\n",
       "\n",
       "    .dataframe tbody tr th {\n",
       "        vertical-align: top;\n",
       "    }\n",
       "\n",
       "    .dataframe thead th {\n",
       "        text-align: right;\n",
       "    }\n",
       "</style>\n",
       "<table border=\"1\" class=\"dataframe\">\n",
       "  <thead>\n",
       "    <tr style=\"text-align: right;\">\n",
       "      <th></th>\n",
       "      <th>income_high</th>\n",
       "      <th>income_low/avg</th>\n",
       "      <th>income_not_spec</th>\n",
       "      <th>income_nan</th>\n",
       "    </tr>\n",
       "  </thead>\n",
       "  <tbody>\n",
       "    <tr>\n",
       "      <th>cluster 8</th>\n",
       "      <td>0.956558</td>\n",
       "      <td>0.015683</td>\n",
       "      <td>0.007814</td>\n",
       "      <td>0.019946</td>\n",
       "    </tr>\n",
       "  </tbody>\n",
       "</table>\n",
       "</div>"
      ],
      "text/plain": [
       "           income_high  income_low/avg  income_not_spec  income_nan\n",
       "cluster 8     0.956558        0.015683         0.007814    0.019946"
      ]
     },
     "execution_count": 84,
     "metadata": {},
     "output_type": "execute_result"
    }
   ],
   "source": [
    "# Income\n",
    "inc_col = [col for col in df8 if col.startswith('income')]\n",
    "df8[inc_col]"
   ]
  },
  {
   "cell_type": "code",
   "execution_count": 83,
   "metadata": {},
   "outputs": [
    {
     "data": {
      "text/html": [
       "<div>\n",
       "<style scoped>\n",
       "    .dataframe tbody tr th:only-of-type {\n",
       "        vertical-align: middle;\n",
       "    }\n",
       "\n",
       "    .dataframe tbody tr th {\n",
       "        vertical-align: top;\n",
       "    }\n",
       "\n",
       "    .dataframe thead th {\n",
       "        text-align: right;\n",
       "    }\n",
       "</style>\n",
       "<table border=\"1\" class=\"dataframe\">\n",
       "  <thead>\n",
       "    <tr style=\"text-align: right;\">\n",
       "      <th></th>\n",
       "      <th>life_stage_1.0</th>\n",
       "      <th>life_stage_2.0</th>\n",
       "      <th>life_stage_3.0</th>\n",
       "      <th>life_stage_4.0</th>\n",
       "      <th>life_stage_5.0</th>\n",
       "      <th>life_stage_nan</th>\n",
       "    </tr>\n",
       "  </thead>\n",
       "  <tbody>\n",
       "    <tr>\n",
       "      <th>cluster 8</th>\n",
       "      <td>0.181691</td>\n",
       "      <td>0.074467</td>\n",
       "      <td>0.138028</td>\n",
       "      <td>0.396194</td>\n",
       "      <td>0.209329</td>\n",
       "      <td>0.00029</td>\n",
       "    </tr>\n",
       "  </tbody>\n",
       "</table>\n",
       "</div>"
      ],
      "text/plain": [
       "           life_stage_1.0  life_stage_2.0  life_stage_3.0  life_stage_4.0  \\\n",
       "cluster 8        0.181691        0.074467        0.138028        0.396194   \n",
       "\n",
       "           life_stage_5.0  life_stage_nan  \n",
       "cluster 8        0.209329         0.00029  "
      ]
     },
     "execution_count": 83,
     "metadata": {},
     "output_type": "execute_result"
    }
   ],
   "source": [
    "# Life Stage\n",
    "life_col = [col for col in df8 if col.startswith('life_stage')]\n",
    "df8[life_col]"
   ]
  },
  {
   "cell_type": "code",
   "execution_count": 85,
   "metadata": {},
   "outputs": [
    {
     "data": {
      "text/html": [
       "<div>\n",
       "<style scoped>\n",
       "    .dataframe tbody tr th:only-of-type {\n",
       "        vertical-align: middle;\n",
       "    }\n",
       "\n",
       "    .dataframe tbody tr th {\n",
       "        vertical-align: top;\n",
       "    }\n",
       "\n",
       "    .dataframe thead th {\n",
       "        text-align: right;\n",
       "    }\n",
       "</style>\n",
       "<table border=\"1\" class=\"dataframe\">\n",
       "  <thead>\n",
       "    <tr style=\"text-align: right;\">\n",
       "      <th></th>\n",
       "      <th>decade_40s</th>\n",
       "      <th>decade_50s</th>\n",
       "      <th>decade_60s</th>\n",
       "      <th>decade_70s</th>\n",
       "      <th>decade_80s</th>\n",
       "      <th>decade_90s</th>\n",
       "      <th>decade_nan</th>\n",
       "    </tr>\n",
       "  </thead>\n",
       "  <tbody>\n",
       "    <tr>\n",
       "      <th>cluster 8</th>\n",
       "      <td>0.04533</td>\n",
       "      <td>0.138246</td>\n",
       "      <td>0.200078</td>\n",
       "      <td>0.343676</td>\n",
       "      <td>0.095449</td>\n",
       "      <td>0.114977</td>\n",
       "      <td>0.062245</td>\n",
       "    </tr>\n",
       "  </tbody>\n",
       "</table>\n",
       "</div>"
      ],
      "text/plain": [
       "           decade_40s  decade_50s  decade_60s  decade_70s  decade_80s  \\\n",
       "cluster 8     0.04533    0.138246    0.200078    0.343676    0.095449   \n",
       "\n",
       "           decade_90s  decade_nan  \n",
       "cluster 8    0.114977    0.062245  "
      ]
     },
     "execution_count": 85,
     "metadata": {},
     "output_type": "execute_result"
    }
   ],
   "source": [
    "# Decade\n",
    "dec_col = [col for col in df8 if col.startswith('decade')]\n",
    "df8[dec_col]"
   ]
  },
  {
   "cell_type": "code",
   "execution_count": 86,
   "metadata": {},
   "outputs": [
    {
     "data": {
      "text/html": [
       "<div>\n",
       "<style scoped>\n",
       "    .dataframe tbody tr th:only-of-type {\n",
       "        vertical-align: middle;\n",
       "    }\n",
       "\n",
       "    .dataframe tbody tr th {\n",
       "        vertical-align: top;\n",
       "    }\n",
       "\n",
       "    .dataframe thead th {\n",
       "        text-align: right;\n",
       "    }\n",
       "</style>\n",
       "<table border=\"1\" class=\"dataframe\">\n",
       "  <thead>\n",
       "    <tr style=\"text-align: right;\">\n",
       "      <th></th>\n",
       "      <th>movement_avantgarde</th>\n",
       "      <th>movement_mainstream</th>\n",
       "      <th>movement_nan</th>\n",
       "    </tr>\n",
       "  </thead>\n",
       "  <tbody>\n",
       "    <tr>\n",
       "      <th>cluster 8</th>\n",
       "      <td>0.716528</td>\n",
       "      <td>0.221227</td>\n",
       "      <td>0.062245</td>\n",
       "    </tr>\n",
       "  </tbody>\n",
       "</table>\n",
       "</div>"
      ],
      "text/plain": [
       "           movement_avantgarde  movement_mainstream  movement_nan\n",
       "cluster 8             0.716528             0.221227      0.062245"
      ]
     },
     "execution_count": 86,
     "metadata": {},
     "output_type": "execute_result"
    }
   ],
   "source": [
    "# Movement\n",
    "mov_col = [col for col in df8 if col.startswith('movement')]\n",
    "df8[mov_col]"
   ]
  },
  {
   "cell_type": "code",
   "execution_count": 88,
   "metadata": {},
   "outputs": [
    {
     "data": {
      "text/html": [
       "<div>\n",
       "<style scoped>\n",
       "    .dataframe tbody tr th:only-of-type {\n",
       "        vertical-align: middle;\n",
       "    }\n",
       "\n",
       "    .dataframe tbody tr th {\n",
       "        vertical-align: top;\n",
       "    }\n",
       "\n",
       "    .dataframe thead th {\n",
       "        text-align: right;\n",
       "    }\n",
       "</style>\n",
       "<table border=\"1\" class=\"dataframe\">\n",
       "  <thead>\n",
       "    <tr style=\"text-align: right;\">\n",
       "      <th></th>\n",
       "      <th>age_higher</th>\n",
       "      <th>age_not_spce</th>\n",
       "      <th>age_younger</th>\n",
       "      <th>age_nan</th>\n",
       "    </tr>\n",
       "  </thead>\n",
       "  <tbody>\n",
       "    <tr>\n",
       "      <th>cluster 8</th>\n",
       "      <td>0.316367</td>\n",
       "      <td>0.590193</td>\n",
       "      <td>0.073494</td>\n",
       "      <td>0.019946</td>\n",
       "    </tr>\n",
       "  </tbody>\n",
       "</table>\n",
       "</div>"
      ],
      "text/plain": [
       "           age_higher  age_not_spce  age_younger   age_nan\n",
       "cluster 8    0.316367      0.590193     0.073494  0.019946"
      ]
     },
     "execution_count": 88,
     "metadata": {},
     "output_type": "execute_result"
    }
   ],
   "source": [
    "# Age\n",
    "age_col = [col for col in df8 if col.startswith('age')]\n",
    "df8[age_col]"
   ]
  },
  {
   "cell_type": "code",
   "execution_count": 89,
   "metadata": {},
   "outputs": [
    {
     "data": {
      "text/html": [
       "<div>\n",
       "<style scoped>\n",
       "    .dataframe tbody tr th:only-of-type {\n",
       "        vertical-align: middle;\n",
       "    }\n",
       "\n",
       "    .dataframe tbody tr th {\n",
       "        vertical-align: top;\n",
       "    }\n",
       "\n",
       "    .dataframe thead th {\n",
       "        text-align: right;\n",
       "    }\n",
       "</style>\n",
       "<table border=\"1\" class=\"dataframe\">\n",
       "  <thead>\n",
       "    <tr style=\"text-align: right;\">\n",
       "      <th></th>\n",
       "      <th>household_multiperson</th>\n",
       "      <th>household_not_spec</th>\n",
       "      <th>household_single</th>\n",
       "      <th>household_nan</th>\n",
       "    </tr>\n",
       "  </thead>\n",
       "  <tbody>\n",
       "    <tr>\n",
       "      <th>cluster 8</th>\n",
       "      <td>0.33827</td>\n",
       "      <td>0.015523</td>\n",
       "      <td>0.626261</td>\n",
       "      <td>0.019946</td>\n",
       "    </tr>\n",
       "  </tbody>\n",
       "</table>\n",
       "</div>"
      ],
      "text/plain": [
       "           household_multiperson  household_not_spec  household_single  \\\n",
       "cluster 8                0.33827            0.015523          0.626261   \n",
       "\n",
       "           household_nan  \n",
       "cluster 8       0.019946  "
      ]
     },
     "execution_count": 89,
     "metadata": {},
     "output_type": "execute_result"
    }
   ],
   "source": [
    "# Household type\n",
    "house_col = [col for col in df8 if col.startswith('household')]\n",
    "df8[house_col]"
   ]
  },
  {
   "cell_type": "code",
   "execution_count": 94,
   "metadata": {},
   "outputs": [
    {
     "data": {
      "text/html": [
       "<div>\n",
       "<style scoped>\n",
       "    .dataframe tbody tr th:only-of-type {\n",
       "        vertical-align: middle;\n",
       "    }\n",
       "\n",
       "    .dataframe tbody tr th {\n",
       "        vertical-align: top;\n",
       "    }\n",
       "\n",
       "    .dataframe thead th {\n",
       "        text-align: right;\n",
       "    }\n",
       "</style>\n",
       "<table border=\"1\" class=\"dataframe\">\n",
       "  <thead>\n",
       "    <tr style=\"text-align: right;\">\n",
       "      <th></th>\n",
       "      <th>ANREDE_KZ</th>\n",
       "    </tr>\n",
       "  </thead>\n",
       "  <tbody>\n",
       "    <tr>\n",
       "      <th>cluster 8</th>\n",
       "      <td>1.467466</td>\n",
       "    </tr>\n",
       "  </tbody>\n",
       "</table>\n",
       "</div>"
      ],
      "text/plain": [
       "           ANREDE_KZ\n",
       "cluster 8   1.467466"
      ]
     },
     "execution_count": 94,
     "metadata": {},
     "output_type": "execute_result"
    }
   ],
   "source": [
    "# Gender\n",
    "gen_col = [col for col in df8 if col.startswith('ANREDE_KZ')]\n",
    "df8[gen_col]"
   ]
  },
  {
   "cell_type": "code",
   "execution_count": 95,
   "metadata": {},
   "outputs": [
    {
     "data": {
      "text/html": [
       "<div>\n",
       "<style scoped>\n",
       "    .dataframe tbody tr th:only-of-type {\n",
       "        vertical-align: middle;\n",
       "    }\n",
       "\n",
       "    .dataframe tbody tr th {\n",
       "        vertical-align: top;\n",
       "    }\n",
       "\n",
       "    .dataframe thead th {\n",
       "        text-align: right;\n",
       "    }\n",
       "</style>\n",
       "<table border=\"1\" class=\"dataframe\">\n",
       "  <thead>\n",
       "    <tr style=\"text-align: right;\">\n",
       "      <th></th>\n",
       "      <th>CJT_GESAMTTYP_1</th>\n",
       "      <th>CJT_GESAMTTYP_2</th>\n",
       "      <th>CJT_GESAMTTYP_3</th>\n",
       "      <th>CJT_GESAMTTYP_4</th>\n",
       "      <th>CJT_GESAMTTYP_5</th>\n",
       "      <th>CJT_GESAMTTYP_6</th>\n",
       "      <th>CJT_GESAMTTYP_nan</th>\n",
       "    </tr>\n",
       "  </thead>\n",
       "  <tbody>\n",
       "    <tr>\n",
       "      <th>cluster 8</th>\n",
       "      <td>0.132745</td>\n",
       "      <td>0.161386</td>\n",
       "      <td>0.239738</td>\n",
       "      <td>0.232483</td>\n",
       "      <td>0.084368</td>\n",
       "      <td>0.148425</td>\n",
       "      <td>0.000856</td>\n",
       "    </tr>\n",
       "  </tbody>\n",
       "</table>\n",
       "</div>"
      ],
      "text/plain": [
       "           CJT_GESAMTTYP_1  CJT_GESAMTTYP_2  CJT_GESAMTTYP_3  CJT_GESAMTTYP_4  \\\n",
       "cluster 8         0.132745         0.161386         0.239738         0.232483   \n",
       "\n",
       "           CJT_GESAMTTYP_5  CJT_GESAMTTYP_6  CJT_GESAMTTYP_nan  \n",
       "cluster 8         0.084368         0.148425           0.000856  "
      ]
     },
     "execution_count": 95,
     "metadata": {},
     "output_type": "execute_result"
    }
   ],
   "source": [
    "# Consumer journey typography\n",
    "cons_col = [col for col in df8 if col.startswith('CJT_GESAMTTYP')]\n",
    "df8[cons_col]"
   ]
  },
  {
   "cell_type": "code",
   "execution_count": 96,
   "metadata": {},
   "outputs": [
    {
     "data": {
      "text/html": [
       "<div>\n",
       "<style scoped>\n",
       "    .dataframe tbody tr th:only-of-type {\n",
       "        vertical-align: middle;\n",
       "    }\n",
       "\n",
       "    .dataframe tbody tr th {\n",
       "        vertical-align: top;\n",
       "    }\n",
       "\n",
       "    .dataframe thead th {\n",
       "        text-align: right;\n",
       "    }\n",
       "</style>\n",
       "<table border=\"1\" class=\"dataframe\">\n",
       "  <thead>\n",
       "    <tr style=\"text-align: right;\">\n",
       "      <th></th>\n",
       "      <th>FINANZTYP_1.0</th>\n",
       "      <th>FINANZTYP_2.0</th>\n",
       "      <th>FINANZTYP_3.0</th>\n",
       "      <th>FINANZTYP_4.0</th>\n",
       "      <th>FINANZTYP_5.0</th>\n",
       "      <th>FINANZTYP_6.0</th>\n",
       "      <th>FINANZTYP_nan</th>\n",
       "    </tr>\n",
       "  </thead>\n",
       "  <tbody>\n",
       "    <tr>\n",
       "      <th>cluster 8</th>\n",
       "      <td>0.081669</td>\n",
       "      <td>0.12868</td>\n",
       "      <td>0.079512</td>\n",
       "      <td>0.119103</td>\n",
       "      <td>0.342575</td>\n",
       "      <td>0.248461</td>\n",
       "      <td>3.051493e-16</td>\n",
       "    </tr>\n",
       "  </tbody>\n",
       "</table>\n",
       "</div>"
      ],
      "text/plain": [
       "           FINANZTYP_1.0  FINANZTYP_2.0  FINANZTYP_3.0  FINANZTYP_4.0  \\\n",
       "cluster 8       0.081669        0.12868       0.079512       0.119103   \n",
       "\n",
       "           FINANZTYP_5.0  FINANZTYP_6.0  FINANZTYP_nan  \n",
       "cluster 8       0.342575       0.248461   3.051493e-16  "
      ]
     },
     "execution_count": 96,
     "metadata": {},
     "output_type": "execute_result"
    }
   ],
   "source": [
    "# Most descriptive financial type\n",
    "fin_col = [col for col in df8 if col.startswith('FINANZTYP')]\n",
    "df8[fin_col]"
   ]
  },
  {
   "cell_type": "code",
   "execution_count": 97,
   "metadata": {},
   "outputs": [
    {
     "data": {
      "text/html": [
       "<div>\n",
       "<style scoped>\n",
       "    .dataframe tbody tr th:only-of-type {\n",
       "        vertical-align: middle;\n",
       "    }\n",
       "\n",
       "    .dataframe tbody tr th {\n",
       "        vertical-align: top;\n",
       "    }\n",
       "\n",
       "    .dataframe thead th {\n",
       "        text-align: right;\n",
       "    }\n",
       "</style>\n",
       "<table border=\"1\" class=\"dataframe\">\n",
       "  <thead>\n",
       "    <tr style=\"text-align: right;\">\n",
       "      <th></th>\n",
       "      <th>SEMIO_REL</th>\n",
       "    </tr>\n",
       "  </thead>\n",
       "  <tbody>\n",
       "    <tr>\n",
       "      <th>cluster 8</th>\n",
       "      <td>3.544911</td>\n",
       "    </tr>\n",
       "  </tbody>\n",
       "</table>\n",
       "</div>"
      ],
      "text/plain": [
       "           SEMIO_REL\n",
       "cluster 8   3.544911"
      ]
     },
     "execution_count": 97,
     "metadata": {},
     "output_type": "execute_result"
    }
   ],
   "source": [
    "# Religious\n",
    "rel_col = [col for col in df8 if col.startswith('SEMIO_REL')]\n",
    "df8[rel_col]"
   ]
  },
  {
   "cell_type": "code",
   "execution_count": 98,
   "metadata": {},
   "outputs": [
    {
     "data": {
      "text/html": [
       "<div>\n",
       "<style scoped>\n",
       "    .dataframe tbody tr th:only-of-type {\n",
       "        vertical-align: middle;\n",
       "    }\n",
       "\n",
       "    .dataframe tbody tr th {\n",
       "        vertical-align: top;\n",
       "    }\n",
       "\n",
       "    .dataframe thead th {\n",
       "        text-align: right;\n",
       "    }\n",
       "</style>\n",
       "<table border=\"1\" class=\"dataframe\">\n",
       "  <thead>\n",
       "    <tr style=\"text-align: right;\">\n",
       "      <th></th>\n",
       "      <th>SEMIO_TRADV</th>\n",
       "    </tr>\n",
       "  </thead>\n",
       "  <tbody>\n",
       "    <tr>\n",
       "      <th>cluster 8</th>\n",
       "      <td>3.329796</td>\n",
       "    </tr>\n",
       "  </tbody>\n",
       "</table>\n",
       "</div>"
      ],
      "text/plain": [
       "           SEMIO_TRADV\n",
       "cluster 8     3.329796"
      ]
     },
     "execution_count": 98,
     "metadata": {},
     "output_type": "execute_result"
    }
   ],
   "source": [
    "# Traditional minded\n",
    "trad_col = [col for col in df8 if col.startswith('SEMIO_TRADV')]\n",
    "df8[trad_col]"
   ]
  },
  {
   "cell_type": "code",
   "execution_count": 99,
   "metadata": {},
   "outputs": [
    {
     "data": {
      "text/html": [
       "<div>\n",
       "<style scoped>\n",
       "    .dataframe tbody tr th:only-of-type {\n",
       "        vertical-align: middle;\n",
       "    }\n",
       "\n",
       "    .dataframe tbody tr th {\n",
       "        vertical-align: top;\n",
       "    }\n",
       "\n",
       "    .dataframe thead th {\n",
       "        text-align: right;\n",
       "    }\n",
       "</style>\n",
       "<table border=\"1\" class=\"dataframe\">\n",
       "  <thead>\n",
       "    <tr style=\"text-align: right;\">\n",
       "      <th></th>\n",
       "      <th>SEMIO_MAT</th>\n",
       "    </tr>\n",
       "  </thead>\n",
       "  <tbody>\n",
       "    <tr>\n",
       "      <th>cluster 8</th>\n",
       "      <td>3.891782</td>\n",
       "    </tr>\n",
       "  </tbody>\n",
       "</table>\n",
       "</div>"
      ],
      "text/plain": [
       "           SEMIO_MAT\n",
       "cluster 8   3.891782"
      ]
     },
     "execution_count": 99,
     "metadata": {},
     "output_type": "execute_result"
    }
   ],
   "source": [
    "# Materialistic\n",
    "mat_col = [col for col in df8 if col.startswith('SEMIO_MAT')]\n",
    "df8[mat_col]"
   ]
  },
  {
   "cell_type": "code",
   "execution_count": 100,
   "metadata": {},
   "outputs": [
    {
     "data": {
      "text/html": [
       "<div>\n",
       "<style scoped>\n",
       "    .dataframe tbody tr th:only-of-type {\n",
       "        vertical-align: middle;\n",
       "    }\n",
       "\n",
       "    .dataframe tbody tr th {\n",
       "        vertical-align: top;\n",
       "    }\n",
       "\n",
       "    .dataframe thead th {\n",
       "        text-align: right;\n",
       "    }\n",
       "</style>\n",
       "<table border=\"1\" class=\"dataframe\">\n",
       "  <thead>\n",
       "    <tr style=\"text-align: right;\">\n",
       "      <th></th>\n",
       "      <th>SEMIO_FAM</th>\n",
       "    </tr>\n",
       "  </thead>\n",
       "  <tbody>\n",
       "    <tr>\n",
       "      <th>cluster 8</th>\n",
       "      <td>3.986348</td>\n",
       "    </tr>\n",
       "  </tbody>\n",
       "</table>\n",
       "</div>"
      ],
      "text/plain": [
       "           SEMIO_FAM\n",
       "cluster 8   3.986348"
      ]
     },
     "execution_count": 100,
     "metadata": {},
     "output_type": "execute_result"
    }
   ],
   "source": [
    "# Family-minded\n",
    "fam_col = [col for col in df8 if col.startswith('SEMIO_FAM')]\n",
    "df8[fam_col]"
   ]
  },
  {
   "cell_type": "code",
   "execution_count": 101,
   "metadata": {},
   "outputs": [
    {
     "data": {
      "text/html": [
       "<div>\n",
       "<style scoped>\n",
       "    .dataframe tbody tr th:only-of-type {\n",
       "        vertical-align: middle;\n",
       "    }\n",
       "\n",
       "    .dataframe tbody tr th {\n",
       "        vertical-align: top;\n",
       "    }\n",
       "\n",
       "    .dataframe thead th {\n",
       "        text-align: right;\n",
       "    }\n",
       "</style>\n",
       "<table border=\"1\" class=\"dataframe\">\n",
       "  <thead>\n",
       "    <tr style=\"text-align: right;\">\n",
       "      <th></th>\n",
       "      <th>KONSUMNAEHE</th>\n",
       "    </tr>\n",
       "  </thead>\n",
       "  <tbody>\n",
       "    <tr>\n",
       "      <th>cluster 8</th>\n",
       "      <td>2.101108</td>\n",
       "    </tr>\n",
       "  </tbody>\n",
       "</table>\n",
       "</div>"
      ],
      "text/plain": [
       "           KONSUMNAEHE\n",
       "cluster 8     2.101108"
      ]
     },
     "execution_count": 101,
     "metadata": {},
     "output_type": "execute_result"
    }
   ],
   "source": [
    "# Distance to point of sale\n",
    "dis_col = [col for col in df8 if col.startswith('KONSUMNAEHE')]\n",
    "df8[dis_col]"
   ]
  },
  {
   "cell_type": "code",
   "execution_count": 102,
   "metadata": {},
   "outputs": [
    {
     "data": {
      "text/html": [
       "<div>\n",
       "<style scoped>\n",
       "    .dataframe tbody tr th:only-of-type {\n",
       "        vertical-align: middle;\n",
       "    }\n",
       "\n",
       "    .dataframe tbody tr th {\n",
       "        vertical-align: top;\n",
       "    }\n",
       "\n",
       "    .dataframe thead th {\n",
       "        text-align: right;\n",
       "    }\n",
       "</style>\n",
       "<table border=\"1\" class=\"dataframe\">\n",
       "  <thead>\n",
       "    <tr style=\"text-align: right;\">\n",
       "      <th></th>\n",
       "      <th>INNENSTADT</th>\n",
       "    </tr>\n",
       "  </thead>\n",
       "  <tbody>\n",
       "    <tr>\n",
       "      <th>cluster 8</th>\n",
       "      <td>4.561875</td>\n",
       "    </tr>\n",
       "  </tbody>\n",
       "</table>\n",
       "</div>"
      ],
      "text/plain": [
       "           INNENSTADT\n",
       "cluster 8    4.561875"
      ]
     },
     "execution_count": 102,
     "metadata": {},
     "output_type": "execute_result"
    }
   ],
   "source": [
    "# Distance to downtown\n",
    "downtown_col = [col for col in df8 if col.startswith('INNENSTADT')]\n",
    "df8[downtown_col]"
   ]
  },
  {
   "cell_type": "code",
   "execution_count": 103,
   "metadata": {},
   "outputs": [
    {
     "data": {
      "text/html": [
       "<div>\n",
       "<style scoped>\n",
       "    .dataframe tbody tr th:only-of-type {\n",
       "        vertical-align: middle;\n",
       "    }\n",
       "\n",
       "    .dataframe tbody tr th {\n",
       "        vertical-align: top;\n",
       "    }\n",
       "\n",
       "    .dataframe thead th {\n",
       "        text-align: right;\n",
       "    }\n",
       "</style>\n",
       "<table border=\"1\" class=\"dataframe\">\n",
       "  <thead>\n",
       "    <tr style=\"text-align: right;\">\n",
       "      <th></th>\n",
       "      <th>ORTSGR_KLS9</th>\n",
       "    </tr>\n",
       "  </thead>\n",
       "  <tbody>\n",
       "    <tr>\n",
       "      <th>cluster 8</th>\n",
       "      <td>5.901475</td>\n",
       "    </tr>\n",
       "  </tbody>\n",
       "</table>\n",
       "</div>"
      ],
      "text/plain": [
       "           ORTSGR_KLS9\n",
       "cluster 8     5.901475"
      ]
     },
     "execution_count": 103,
     "metadata": {},
     "output_type": "execute_result"
    }
   ],
   "source": [
    "# Size of community\n",
    "comm_col = [col for col in df8 if col.startswith('ORTSGR_KLS9')]\n",
    "df8[comm_col]"
   ]
  },
  {
   "cell_type": "code",
   "execution_count": 117,
   "metadata": {},
   "outputs": [],
   "source": [
    "# Look at all these things for cluster 5, which is the largest cluster in the general population, \n",
    "# but which has none of the consumers\n",
    "c5 = clust_cent[5]\n",
    "acp5 = pca.inverse_transform(c5)\n",
    "unsc5 = scaler.inverse_transform(acp5)\n",
    "df5 = pd.DataFrame({list(data)[i]: e for i, e in enumerate(unsc5)}, index=[\"cluster 5\"])"
   ]
  },
  {
   "cell_type": "code",
   "execution_count": 118,
   "metadata": {},
   "outputs": [
    {
     "name": "stdout",
     "output_type": "stream",
     "text": [
      "           weath_1.0  weath_2.0  weath_3.0  weath_4.0  weath_5.0  weath_nan\n",
      "cluster 5      0.049      0.116      0.084      0.309      0.442        0.0 \n",
      "\n",
      "           income_high  income_low/avg  income_not_spec  income_nan\n",
      "cluster 5        0.025           0.974            0.001       0.001 \n",
      "\n",
      "           life_stage_1.0  life_stage_2.0  life_stage_3.0  life_stage_4.0  \\\n",
      "cluster 5           0.402           0.051           0.091           0.247   \n",
      "\n",
      "           life_stage_5.0  life_stage_nan  \n",
      "cluster 5           0.209             0.0   \n",
      "\n",
      "           decade_40s  decade_50s  decade_60s  decade_70s  decade_80s  \\\n",
      "cluster 5       0.074       0.177       0.247       0.381       0.075   \n",
      "\n",
      "           decade_90s  decade_nan  \n",
      "cluster 5       0.001       0.045   \n",
      "\n",
      "           movement_avantgarde  movement_mainstream  movement_nan\n",
      "cluster 5                0.062                0.893         0.045 \n",
      "\n",
      "           age_higher  age_not_spce  age_younger  age_nan\n",
      "cluster 5       0.857         0.049        0.093    0.001 \n",
      "\n",
      "           household_multiperson  household_not_spec  household_single  \\\n",
      "cluster 5                  0.179               0.002             0.818   \n",
      "\n",
      "           household_nan  \n",
      "cluster 5          0.001   \n",
      "\n",
      "           ANREDE_KZ\n",
      "cluster 5      1.962 \n",
      "\n",
      "           CJT_GESAMTTYP_1  CJT_GESAMTTYP_2  CJT_GESAMTTYP_3  CJT_GESAMTTYP_4  \\\n",
      "cluster 5            0.185            0.322            0.136            0.216   \n",
      "\n",
      "           CJT_GESAMTTYP_5  CJT_GESAMTTYP_6  CJT_GESAMTTYP_nan  \n",
      "cluster 5            0.099            0.043               -0.0   \n",
      "\n",
      "           FINANZTYP_1.0  FINANZTYP_2.0  FINANZTYP_3.0  FINANZTYP_4.0  \\\n",
      "cluster 5          0.133           0.24         -0.004         -0.017   \n",
      "\n",
      "           FINANZTYP_5.0  FINANZTYP_6.0  FINANZTYP_nan  \n",
      "cluster 5          0.142          0.506           -0.0   \n",
      "\n",
      "           SEMIO_REL\n",
      "cluster 5      2.039 \n",
      "\n",
      "           SEMIO_TRADV\n",
      "cluster 5        2.454 \n",
      "\n",
      "           SEMIO_MAT\n",
      "cluster 5      2.666 \n",
      "\n",
      "           SEMIO_FAM\n",
      "cluster 5      2.213 \n",
      "\n",
      "           KONSUMNAEHE\n",
      "cluster 5         2.52 \n",
      "\n",
      "           INNENSTADT\n",
      "cluster 5       4.017 \n",
      "\n",
      "           ORTSGR_KLS9\n",
      "cluster 5        6.069 \n",
      "\n"
     ]
    }
   ],
   "source": [
    "look_cols = [wealth_col, inc_col, life_col, dec_col, mov_col, age_col, house_col, gen_col, cons_col, \\\n",
    "            fin_col, rel_col, trad_col, mat_col, fam_col, dis_col, downtown_col, comm_col]\n",
    "for c in look_cols:\n",
    "    print(df5[c].round(3), \"\\n\")"
   ]
  },
  {
   "cell_type": "markdown",
   "metadata": {},
   "source": [
    "### Discussion 3.3: Compare Customer Data to Demographics Data\n",
    "The customer data only fell into only one cluster: cluster 8. Interestingly, this is the smallest cluster of the 17 cluster in the general population. \n",
    "\n",
    "Let's look at some of the characteristics of cluster 8:\n",
    "- Decent spread of 'wealth', with most of the people falling into the \"wealthy\" category. \n",
    "- Overwhelmingly high income - over 95% in this cluster are considered high income. \n",
    "- Mix of life stages, tending toward the higher life stages (i.e. older people)\n",
    "- The most common decades are the 60s and 70s. \n",
    "- Nearly a third of the people are of the avantgarde movement. \n",
    "- Most of the ages are either 'higher' or 'not specified'. \n",
    "- Most of the households are single-family households. \n",
    "- Gender divide is just about even, leaning a bit toward males. \n",
    "- The Consumer journey typography is split between 3 and 4: advertising interested (not enthusiests nor minimalist). - Consumers would most describe themselves as investors. \n",
    "- Average to high amounds of religious affiliation. \n",
    "- Average to high traditional minded. \n",
    "- Highly materialistic and highly family-minded. \n",
    "- Tend to be inside of a 250 x 250m grid cell of point of sale (so close to the shopping). \n",
    "- Distance to downtown is 5-20 km\n",
    "- Usually living in communities with a population of 20,000-100,000\n",
    "\n",
    "Looking at cluster 5, which is the largest of the general population, we see:\n",
    "- Mostly \"poor\" and \"less affluent\" people\n",
    "- mostly average/low income\n",
    "- Mostly Pre-Family Couples & Singles\n",
    "- Most common decade is the 70s\n",
    "- Almost 90% in the aventgarde movement\n",
    "- Most of the ages are 'higher'\n",
    "- Mostly single-family households \n",
    "- Gender is almost all females \n",
    "- Customers are advertising minimalists\n",
    "- Consumers would most describe themselves as inconspicuous or money-savers.\n",
    "- Very highly religious\n",
    "- Highly traditional minded, materialistic, and family minded\n",
    "- Tend to be inside of a 500 x 500m grid cell of point of sale\n",
    "- Distance to downtown is 1-5 km\n",
    "- Usually living in communities with a population of 50,000-100,000\n",
    "\n",
    "So in short, the company should mail to rich, old people who like investing and should not mail to less affluent young females."
   ]
  },
  {
   "cell_type": "markdown",
   "metadata": {},
   "source": [
    "> Congratulations on making it this far in the project! Before you finish, make sure to check through the entire notebook from top to bottom to make sure that your analysis follows a logical flow and all of your findings are documented in **Discussion** cells. Once you've checked over all of your work, you should export the notebook as an HTML document to submit for evaluation. You can do this from the menu, navigating to **File -> Download as -> HTML (.html)**. You will submit both that document and this notebook for your project submission."
   ]
  },
  {
   "cell_type": "code",
   "execution_count": null,
   "metadata": {},
   "outputs": [],
   "source": []
  }
 ],
 "metadata": {
  "kernelspec": {
   "display_name": "Python 3",
   "language": "python",
   "name": "python3"
  },
  "language_info": {
   "codemirror_mode": {
    "name": "ipython",
    "version": 3
   },
   "file_extension": ".py",
   "mimetype": "text/x-python",
   "name": "python",
   "nbconvert_exporter": "python",
   "pygments_lexer": "ipython3",
   "version": "3.6.3"
  }
 },
 "nbformat": 4,
 "nbformat_minor": 2
}
